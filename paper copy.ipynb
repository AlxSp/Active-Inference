{
 "cells": [
  {
   "cell_type": "markdown",
   "metadata": {},
   "source": [
    "# A step-by-step tutorial on active inference and its application to empirical data\n",
    "\n",
    "- [Paper](https://www.sciencedirect.com/science/article/pii/S0022249621000973)"
   ]
  },
  {
   "cell_type": "code",
   "execution_count": 64,
   "metadata": {},
   "outputs": [],
   "source": [
    "import matplotlib.pyplot as plt\n",
    "import numpy as np\n",
    "from jax import grad\n",
    "from jax import numpy as jnp\n",
    "import copy"
   ]
  },
  {
   "cell_type": "code",
   "execution_count": 65,
   "metadata": {},
   "outputs": [],
   "source": [
    "eps_ = 1e-16\n",
    "eps_ = np.exp(-16) #NOTE: in all their script and experiments, they use this epsilon value. It seems too large, but will use for now.\n",
    "\n",
    "def log(x):\n",
    "    return np.log(x + eps_)\n",
    "\n",
    "def softmax(x):\n",
    "    # stable softmax\n",
    "    e_x = np.exp(x - np.max(x))\n",
    "    return e_x / e_x.sum(axis=0)"
   ]
  },
  {
   "cell_type": "markdown",
   "metadata": {},
   "source": [
    "### Variational Free Energy Approximation\n",
    "\n",
    "$$ F = \\sum_{s \\in S} q(s) \\ln \\frac{q(s)}{p(o, s)} $$"
   ]
  },
  {
   "cell_type": "markdown",
   "metadata": {},
   "source": [
    "#### Example from Figure 3"
   ]
  },
  {
   "cell_type": "code",
   "execution_count": 66,
   "metadata": {},
   "outputs": [
    {
     "data": {
      "text/plain": [
       "array([0.4, 0.1])"
      ]
     },
     "execution_count": 66,
     "metadata": {},
     "output_type": "execute_result"
    }
   ],
   "source": [
    "prior = np.array([.5, .5]) # prior p(s)\n",
    "\n",
    "p_o_given_s = np.array([.8, .2]) # likelihood p(o|s)\n",
    "\n",
    "joint_p_o_s =  p_o_given_s * prior # joint p(o, s)\n",
    "joint_p_o_s"
   ]
  },
  {
   "cell_type": "code",
   "execution_count": 67,
   "metadata": {},
   "outputs": [
    {
     "data": {
      "text/plain": [
       "array([0.8, 0.2])"
      ]
     },
     "execution_count": 67,
     "metadata": {},
     "output_type": "execute_result"
    }
   ],
   "source": [
    "# Compute the exact posterior\n",
    "\n",
    "p_o = joint_p_o_s.sum() # marginal likelihood p(o)\n",
    "\n",
    "p_s_given_o = joint_p_o_s / p_o # posterior p(s|o)\n",
    "p_s_given_o"
   ]
  },
  {
   "cell_type": "markdown",
   "metadata": {},
   "source": [
    "Minimizing the variational free energy will approach the true posterior distribution as it the upper bound on the log model evidence."
   ]
  },
  {
   "cell_type": "code",
   "execution_count": 68,
   "metadata": {},
   "outputs": [
    {
     "data": {
      "text/plain": [
       "0.916290731874155"
      ]
     },
     "execution_count": 68,
     "metadata": {},
     "output_type": "execute_result"
    }
   ],
   "source": [
    "# Compute the approximate posterior\n",
    "\n",
    "# set the initial approximate posterior q(s) to be the prior\n",
    "q_s = prior.copy() # approximate posterior q(s)\n",
    "\n",
    "F = q_s.dot(np.log(q_s / joint_p_o_s)) # compute the KL divergence between the joint and the approximate posterior\n",
    "F"
   ]
  },
  {
   "cell_type": "markdown",
   "metadata": {},
   "source": [
    "Free energy can also be computed with the exact posterior distribution to demonstrate that the variational free energy is an upper bound on the log model evidence and minimization of the variational free energy will lead q(s) to approach the true posterior distribution.\n",
    "\n",
    "$$ F = E_{q(s)} \\ln \\frac{q(s)}{p(s|o)} - \\ln p(o) $$"
   ]
  },
  {
   "cell_type": "code",
   "execution_count": 69,
   "metadata": {},
   "outputs": [
    {
     "data": {
      "text/plain": [
       "0.9162907318741551"
      ]
     },
     "execution_count": 69,
     "metadata": {},
     "output_type": "execute_result"
    }
   ],
   "source": [
    "F = np.asarray(q_s).dot(np.log(q_s / p_s_given_o)) - np.log(p_o)\n",
    "F"
   ]
  },
  {
   "cell_type": "code",
   "execution_count": 70,
   "metadata": {},
   "outputs": [],
   "source": [
    "# create a jax version of the free energy\n",
    "grad_F = grad(lambda q_s: q_s.dot(jnp.log(q_s / joint_p_o_s))) # compute the gradient of the KL divergence with respect to the approximate posterior q(s)"
   ]
  },
  {
   "cell_type": "code",
   "execution_count": 71,
   "metadata": {},
   "outputs": [
    {
     "data": {
      "text/plain": [
       "array([0.534602, 0.465398], dtype=float32)"
      ]
     },
     "execution_count": 71,
     "metadata": {},
     "output_type": "execute_result"
    }
   ],
   "source": [
    "# Run this cell ~ 180 times to converge to the exact posterior\n",
    "learning_rate = .1\n",
    "# convert the update log probabilities to probabilities via softmax\n",
    "q_s = softmax(np.log(q_s) - grad_F(q_s) * learning_rate) # compute the gradient of the KL divergence at the initial approximate posterior\n",
    "q_s"
   ]
  },
  {
   "cell_type": "markdown",
   "metadata": {},
   "source": [
    "$$ F = E_{q(s)} [\\ln q(s) - \\ln p(o,s)] $$"
   ]
  },
  {
   "cell_type": "code",
   "execution_count": 72,
   "metadata": {},
   "outputs": [
    {
     "data": {
      "text/plain": [
       "0.8707187106806568"
      ]
     },
     "execution_count": 72,
     "metadata": {},
     "output_type": "execute_result"
    }
   ],
   "source": [
    "F = q_s.dot(np.log(q_s) - np.log(joint_p_o_s))\n",
    "F"
   ]
  },
  {
   "cell_type": "markdown",
   "metadata": {},
   "source": [
    "$$ F = E_{q(s)} [\\ln q(s) - \\ln p(s)] - E_{q(s)}[\\ln p (o|s)] $$"
   ]
  },
  {
   "cell_type": "code",
   "execution_count": 73,
   "metadata": {},
   "outputs": [
    {
     "data": {
      "text/plain": [
       "0.8707187106806569"
      ]
     },
     "execution_count": 73,
     "metadata": {},
     "output_type": "execute_result"
    }
   ],
   "source": [
    "F = q_s.dot(np.log(q_s) - np.log(prior)) - q_s.dot(np.log(p_o_given_s))\n",
    "F"
   ]
  },
  {
   "cell_type": "markdown",
   "metadata": {},
   "source": [
    "$$ F = D_{KL} [q(s) || p(s)] - E_{q(s)}[\\ln p (o|s)] $$"
   ]
  },
  {
   "cell_type": "code",
   "execution_count": 74,
   "metadata": {},
   "outputs": [
    {
     "data": {
      "text/plain": [
       "0.8707187031922577"
      ]
     },
     "execution_count": 74,
     "metadata": {},
     "output_type": "execute_result"
    }
   ],
   "source": [
    "F = q_s.dot(np.log(q_s / prior)) - q_s.dot(np.log(p_o_given_s))\n",
    "F"
   ]
  },
  {
   "cell_type": "markdown",
   "metadata": {},
   "source": [
    "### Figure 5 - Static Perception"
   ]
  },
  {
   "cell_type": "code",
   "execution_count": 75,
   "metadata": {},
   "outputs": [
    {
     "data": {
      "text/plain": [
       "array([0.81818182, 0.18181818])"
      ]
     },
     "execution_count": 75,
     "metadata": {},
     "output_type": "execute_result"
    }
   ],
   "source": [
    "D = np.array([.5, .5]) # Prior\n",
    "\n",
    "A = np.array([\n",
    "    [.9, .2],\n",
    "    [.1, .8]\n",
    "]) # likelihood p(o|s) \n",
    "\n",
    "o = np.array([1, 0]) # output\n",
    "\n",
    "q_s = softmax(np.log(D) + np.log(A.T.dot(o)))\n",
    "q_s"
   ]
  },
  {
   "cell_type": "markdown",
   "metadata": {},
   "source": [
    "## Marginal Message Passing\n",
    "\n",
    "1. Initialize the values of the approximate posteriors q(s_(?,?) ) \n",
    "   for all hidden variables (i.e., all edges) in the graph. \n",
    "2. Fix the value of observed variables (here, o_?).\n",
    "3. Choose an edge (V) corresponding to the hidden variable you want to \n",
    "   infer (here, s_(?,?)).\n",
    "4. Calculate the messages, ?(s_(?,?)), which take on values sent by \n",
    "   each factor node connected to V.\n",
    "5. Pass a message from each connected factor node N to V (often written \n",
    "   as ?_(N?V)). \n",
    "6. Update the approximate posterior represented by V according to the \n",
    "   following rule: q(s_(?,?) )? ? ?(s_(?,?))? ?(s_(?,?)). The arrow \n",
    "   notation here indicates messages from two different factors arriving \n",
    "   at the same edge. \n",
    "    6A. Normalize the product of these messages so that q(s_(?,?) ) \n",
    "        corresponds to a proper probability distribution. \n",
    "    6B. Use this new q(s_(?,?) ) to update the messages sent by \n",
    "        connected factors (i.e., for the next round of message passing).\n",
    "7. Repeat steps 4-6 sequentially for each edge.\n",
    "8. Steps 3-7 are then repeated until the difference between updates \n",
    "   converges to some acceptably low value (i.e., resulting in stable \n",
    "   posterior beliefs for all edges).\n",
    "\n",
    "from [Message_passing_example.m](https://github.com/rssmith33/Active-Inference-Tutorial-Scripts/blob/main/Message_passing_example.m)\n",
    "\n",
    "\n"
   ]
  },
  {
   "cell_type": "code",
   "execution_count": 76,
   "metadata": {},
   "outputs": [
    {
     "data": {
      "text/plain": [
       "array([[0.98780488, 0.01219512],\n",
       "       [0.98780488, 0.01219512]])"
      ]
     },
     "execution_count": 76,
     "metadata": {},
     "output_type": "execute_result"
    }
   ],
   "source": [
    "# Example 1\n",
    "\n",
    "# Fixed observations and message passing steps. Both observations are fixed from the start / already observed. \n",
    "# In full active inference there is another time step variable which acts to sequentially present the observations.\n",
    "\n",
    "# prior p(s) regarding the initial two states\n",
    "D = np.array([.5, .5])\n",
    "\n",
    "# likelihood p(o|s) \n",
    "A = np.array([\n",
    "    [.9, .1],\n",
    "    [.1, .9]\n",
    "])\n",
    "\n",
    "# state to state transition probability matrix p(s_ τ+1 |s_ τ)\n",
    "B = np.array([\n",
    "    [1, 0],\n",
    "    [0, 1]\n",
    "])\n",
    "\n",
    "# transpose the transition matrices and normalize the columns for future message passing\n",
    "# Note: this technically not necessary for this example as B.T is already normalized, but it is included for completeness\n",
    "B_T = [\n",
    "    b.T / b.T.sum(axis =0) for b in B \n",
    "]\n",
    "\n",
    "# fixed observations o_ τ\n",
    "# Fix the observations at each time step (Step 2)\n",
    "o_arr = np.array([\n",
    "    [1, 0],\n",
    "    [1, 0]\n",
    "])\n",
    "\n",
    "time_steps = len(o_arr) # number of time steps\n",
    "\n",
    "num_iter = 16 # number of iterations of message passing\n",
    "\n",
    "# Initialize approximate posteriors q(s) at each time step (Step 1)\n",
    "qs_arr = np.ones((time_steps, len(D))) / len(D) # array of approximate posteriors q(s) at each time step\n",
    "\n",
    "# Initialize history of approximate posteriors q(s) for each iteration and time step (This variable is only used for visualization)\n",
    "qs_history = np.zeros((num_iter, time_steps, len(D)))\n",
    "\n",
    "# Iterate a set number of times or until convergence (Step 8) \n",
    "for i in range(num_iter):\n",
    "    # For each edge (hidden state) (Step 7)\n",
    "    for tt in range(time_steps):\n",
    "        # get the log of the approximate posterior q(s) at this time step (Step 3)\n",
    "        q_s = np.log(qs_arr[tt])\n",
    "\n",
    "        # get the message sent from the past (Step 4: Message 1) \n",
    "        if tt == 0: # if this is the first time step we use the prior\n",
    "            log_B_past = np.log(D)\n",
    "        else: # otherwise we compute the belief of the current state based on the previous state and the transition matrix\n",
    "            log_B_past = np.log(B @ qs_arr[tt - 1])\n",
    "\n",
    "        # get the message sent from the future (Step 4: Message 2)\n",
    "        if tt == time_steps - 1: # if this is the last time step we use a message of zero (no future states)\n",
    "            log_B_future = 0\n",
    "        else: # otherwise we compute the belief of the current state based on the future state and the transition matrix\n",
    "            log_B_future = np.log(B_T @ qs_arr[tt + 1])\n",
    "\n",
    "        # get the likelihood of the state given the observation (Step 4: Message 3)\n",
    "        log_Ao = np.log(A.T @ o_arr[tt])\n",
    "\n",
    "        # Pass messages and update the posterior (Step 5-6)\n",
    "        # Since all terms are in log space, this is addition instead of\n",
    "        # multiplication. This corresponds to  equation 16 in the main\n",
    "        # text (within the softmax)\n",
    "        q_s = .5 * (log_B_past + log_B_future) + log_Ao\n",
    "\n",
    "        # normalize the posterior (Step 6A)\n",
    "        qs_arr[tt] = softmax(q_s)\n",
    "\n",
    "        qs_history[i, tt] = qs_arr[tt]\n",
    "\n",
    "qs_arr"
   ]
  },
  {
   "cell_type": "code",
   "execution_count": 77,
   "metadata": {},
   "outputs": [
    {
     "data": {
      "text/plain": [
       "array([[0.98780488, 0.01219512],\n",
       "       [0.98780488, 0.01219512]])"
      ]
     },
     "execution_count": 77,
     "metadata": {},
     "output_type": "execute_result"
    },
    {
     "data": {
      "image/png": "[encoded data removed]",
      "text/plain": [
       "<Figure size 480x480 with 1 Axes>"
      ]
     },
     "metadata": {},
     "output_type": "display_data"
    }
   ],
   "source": [
    "#Example 1: Posterior over states \n",
    "\n",
    "plt.matshow(qs_arr.T, vmin = 0.0, vmax = 1.0, cmap='binary')\n",
    "plt.xlabel('Time')\n",
    "plt.ylabel('Approximate Posterior $q(s)$')\n",
    "\n",
    "qs_arr"
   ]
  },
  {
   "cell_type": "code",
   "execution_count": 78,
   "metadata": {},
   "outputs": [
    {
     "data": {
      "text/plain": [
       "(17, 2, 2)"
      ]
     },
     "execution_count": 78,
     "metadata": {},
     "output_type": "execute_result"
    }
   ],
   "source": [
    "np.vstack([np.array([[D] * 2]), qs_history]).shape"
   ]
  },
  {
   "cell_type": "code",
   "execution_count": 79,
   "metadata": {},
   "outputs": [
    {
     "data": {
      "image/png": "[encoded data removed]",
      "text/plain": [
       "<Figure size 640x480 with 1 Axes>"
      ]
     },
     "metadata": {},
     "output_type": "display_data"
    }
   ],
   "source": [
    "# \n",
    "# Note: the initial prior is not always added to the history when plotting\n",
    "qs_history_with_priors = np.vstack([np.array([[D] * 2]), qs_history])\n",
    "\n",
    "plt.plot(qs_history_with_priors.reshape(-1, 4))\n",
    "plt.ylabel('Approximate Posterior Probability, $q(s_{tau})$')\n",
    "plt.xlabel('Message Passing Iterations')\n",
    "plt.show()"
   ]
  },
  {
   "cell_type": "code",
   "execution_count": 80,
   "metadata": {},
   "outputs": [],
   "source": [
    "# Example 2\n",
    "\n",
    "# prior p(s) regarding the initial two states\n",
    "D = np.array([.5, .5])\n",
    "\n",
    "# likelihood p(o|s) \n",
    "A = np.array([\n",
    "    [.9, .1],\n",
    "    [.1, .9]\n",
    "])\n",
    "\n",
    "# state to state transition probability matrix p(s_ τ+1 |s_ τ)\n",
    "B = np.array([\n",
    "    [1, 0],\n",
    "    [0, 1]\n",
    "])\n",
    "\n",
    "# transpose the transition matrices and normalize the columns for future message passing\n",
    "# Note: this technically not necessary for this example as B.T is already normalized, but it is included for completeness\n",
    "B_T = [\n",
    "    b.T / b.T.sum(axis =0) for b in B \n",
    "]\n",
    "\n",
    "# In the original Message_passing_example.m code the sequential observations are defined as a matrix; (τ, t)\n",
    "# this symbolizes that each τ can see all observations up to τ.\n",
    "# Hence the second observation of the first τ is [0, 0] (not observed)\n",
    "# o_arr = np.array([\n",
    "#     [\n",
    "#         [1, 0],\n",
    "#         [0, 0]\n",
    "#     ],\n",
    "#     [\n",
    "#         [1, 0],\n",
    "#         [1, 0]\n",
    "#     ]\n",
    "# ])\n",
    "# For simplicity, we will instead just check in each iteration if τ is less than or equal to t and then use the observation at that time step.\n",
    "# Otherwise, we will set log_Ao to zero.\n",
    "\n",
    "# fixed observations o_ τ\n",
    "# Fix the observations at each time step (Step 2)\n",
    "o_arr = np.array([\n",
    "    [1, 0],\n",
    "    [1, 0]\n",
    "])\n",
    "\n",
    "time_steps = len(o_arr) # number of time steps\n",
    "\n",
    "num_iter = 16 # number of iterations of message passing\n",
    "\n",
    "# Initialize approximate posteriors q(s) at each time step (Step 1)\n",
    "\n",
    "qs_arr = np.ones((time_steps, len(D))) / len(D) # array of approximate posteriors q(s) at each time step\n",
    "\n",
    "# Initialize history of approximate posteriors q(s) for each iteration and time step (This variable is only used for visualization)\n",
    "qs_history = np.zeros((time_steps, num_iter, time_steps, len(D))) \n",
    "# Initialize history of errors for each iteration and time step (This variable is only used for visualization)\n",
    "err_history = np.zeros((time_steps, num_iter, time_steps, len(D))) \n",
    "\n",
    "# for each time step (over all observations)\n",
    "for t in range(time_steps):\n",
    "    # for each factor (light blue shapes, light green shapes)\n",
    "    for i in range(num_iter):\n",
    "        # for each time step (over all observations)\n",
    "        for tt in range(time_steps):\n",
    "\n",
    "            # get the log of the approximate posterior q(s) at this time step (Step 3)\n",
    "            v = log(qs_arr[tt])\n",
    "\n",
    "            # get the message sent from the past (Step 4: Message 1) \n",
    "            if tt == 0: # if this is the first time step we use the prior\n",
    "                log_B_past = log(D)\n",
    "            else: # otherwise we compute the belief of the current state based on the previous state and the transition matrix\n",
    "                log_B_past = log(B @ qs_arr[tt - 1])\n",
    "\n",
    "            # get the message sent from the future (Step 4: Message 2)\n",
    "            if tt == time_steps - 1: # if this is the last time step we use a message of zero (no future states)\n",
    "                log_B_future = 0\n",
    "            else: # otherwise we compute the belief of the current state based on the future state and the transition matrix\n",
    "                log_B_future = log(B_T @ qs_arr[tt + 1])\n",
    "\n",
    "            # get the likelihood of the state given the observation (Step 4: Message 3)\n",
    "            if tt <= t: # if the observation has been observed\n",
    "                log_Ao = log(A.T  @ o_arr[tt] )\n",
    "            else: # if the observation has not been observed\n",
    "                log_Ao = 0\n",
    "    \n",
    "            err = 0.5 * (log_B_past + log_B_future) + log_Ao - v\n",
    "\n",
    "            v += err\n",
    "\n",
    "            qs_arr[tt] = softmax(v)\n",
    "\n",
    "            err_history[t, i, tt] = err\n",
    "            qs_history[t, i, tt] = qs_arr[tt]\n"
   ]
  },
  {
   "cell_type": "code",
   "execution_count": 81,
   "metadata": {},
   "outputs": [
    {
     "data": {
      "text/plain": [
       "Text(0, 0.5, 'Approximate Posterior $q(s)$')"
      ]
     },
     "execution_count": 81,
     "metadata": {},
     "output_type": "execute_result"
    },
    {
     "data": {
      "image/png": "[encoded data removed]",
      "text/plain": [
       "<Figure size 480x480 with 1 Axes>"
      ]
     },
     "metadata": {},
     "output_type": "display_data"
    }
   ],
   "source": [
    "#Example 2: Posterior over states \n",
    "\n",
    "plt.matshow(qs_arr.T, vmin = 0.0, vmax = 1.0, cmap='binary')\n",
    "plt.xlabel('Time')\n",
    "plt.ylabel('Approximate Posterior $q(s)$')"
   ]
  },
  {
   "cell_type": "code",
   "execution_count": 82,
   "metadata": {},
   "outputs": [
    {
     "data": {
      "image/png": "[encoded data removed]",
      "text/plain": [
       "<Figure size 640x480 with 1 Axes>"
      ]
     },
     "metadata": {},
     "output_type": "display_data"
    }
   ],
   "source": [
    "# Note: the initial prior is not always added to the history when plotting\n",
    "full_beliefs = []\n",
    "full_beliefs.append(np.array([D] * 2).flatten())\n",
    "for t in range(time_steps):\n",
    "    for i in range(num_iter):\n",
    "        full_beliefs.append(qs_history[t][i].flatten())\n",
    "full_beliefs = np.asarray(full_beliefs)\n",
    "plt.plot(full_beliefs)\n",
    "\n",
    "plt.ylabel('Approximate Posterior Probability, $q(s_{tau})$')\n",
    "plt.xlabel('Message Passing Iterations')\n",
    "plt.title(\"Firing Rates (traces)\")\n",
    "plt.show()"
   ]
  },
  {
   "cell_type": "code",
   "execution_count": 83,
   "metadata": {},
   "outputs": [],
   "source": [
    "states = 2\n",
    "epochs = 2\n",
    "\n",
    "event_related_potentials = []\n",
    "\n",
    "for tau in range(4):\n",
    "    epoch_gradients = []\n",
    "    for i in range(epochs):\n",
    "            # since we attach the original prior to the beginning of the array, we need to skip the first element\n",
    "            start_offset = i * num_iter\n",
    "            end_offset = i * num_iter + num_iter\n",
    "            epoch_gradients.append(np.gradient(full_beliefs[1:][start_offset:end_offset, tau]))\n",
    "\n",
    "    event_related_potentials.append(np.concatenate(epoch_gradients))\n",
    "\n",
    "event_related_potentials = np.asarray(event_related_potentials)\n",
    "\n",
    "event_related_potentials = np.hstack((np.zeros((4, 1)), event_related_potentials))"
   ]
  },
  {
   "cell_type": "code",
   "execution_count": 84,
   "metadata": {},
   "outputs": [
    {
     "data": {
      "image/png": "[encoded data removed]",
      "text/plain": [
       "<Figure size 640x480 with 1 Axes>"
      ]
     },
     "metadata": {},
     "output_type": "display_data"
    }
   ],
   "source": [
    "plt.plot(event_related_potentials.T)\n",
    "plt.xlabel('Message Passing Iterations')\n",
    "plt.ylabel('Response')\n",
    "plt.title(\"Event-Related Potentials (ERPs) for each state\")\n",
    "plt.show()"
   ]
  },
  {
   "cell_type": "markdown",
   "metadata": {},
   "source": [
    "# State Prediction Errors\n",
    "\n",
    "επ,τ ←\n",
    "1(\n",
    "2\n",
    "ln Bπ,τ −1 sπ,τ −1 + ln B†π,τ sπ,τ +1\n",
    "(\n",
    "− ln sπ,τ\n",
    ")\n",
    "(\n",
    "))\n",
    "+ ln AT oτ"
   ]
  },
  {
   "cell_type": "code",
   "execution_count": 85,
   "metadata": {},
   "outputs": [],
   "source": [
    "A = np.array([\n",
    "    [.8, .4],\n",
    "    [.2, .6]\n",
    "])\n",
    "\n",
    "B_past = np.array([\n",
    "    [.9, .2],\n",
    "    [.1, .8]\n",
    "])\n",
    "\n",
    "B_current = np.array([\n",
    "    [.2, .3],\n",
    "    [.8, .7]\n",
    "])\n",
    "\n",
    "# NOTE: in shape_patterns.ipynb the normalization is done via division by the sum of the columns instead of softmax\n",
    "B_T = softmax(B_current.T)\n",
    "\n",
    "o = np.array([1, 0])\n",
    "\n",
    "q_s = np.array([.5, .5])\n",
    "\n",
    "q_s_past, q_s_future = q_s, q_s\n",
    "\n",
    "v = log(q_s)"
   ]
  },
  {
   "cell_type": "code",
   "execution_count": 86,
   "metadata": {},
   "outputs": [
    {
     "data": {
      "text/plain": [
       "array([-0.17548833, -0.9689707 ])"
      ]
     },
     "execution_count": 86,
     "metadata": {},
     "output_type": "execute_result"
    }
   ],
   "source": [
    "err = 0.5 * (log(B_past @ q_s) + log(B_T @ q_s)) + log(A.T @ o) - v\n",
    "err"
   ]
  },
  {
   "cell_type": "code",
   "execution_count": 87,
   "metadata": {},
   "outputs": [
    {
     "data": {
      "text/plain": [
       "array([-0.86863529, -1.66211765])"
      ]
     },
     "execution_count": 87,
     "metadata": {},
     "output_type": "execute_result"
    }
   ],
   "source": [
    "v = v + err\n",
    "v"
   ]
  },
  {
   "cell_type": "code",
   "execution_count": 88,
   "metadata": {},
   "outputs": [
    {
     "data": {
      "text/plain": [
       "array([0.68857857, 0.31142143])"
      ]
     },
     "execution_count": 88,
     "metadata": {},
     "output_type": "execute_result"
    }
   ],
   "source": [
    "q_s = softmax(v)\n",
    "q_s"
   ]
  },
  {
   "cell_type": "code",
   "execution_count": 89,
   "metadata": {},
   "outputs": [
    {
     "data": {
      "text/plain": [
       "array([0.55, 0.45])"
      ]
     },
     "execution_count": 89,
     "metadata": {},
     "output_type": "execute_result"
    }
   ],
   "source": [
    "B_past @ q_s_past"
   ]
  },
  {
   "cell_type": "code",
   "execution_count": 90,
   "metadata": {},
   "outputs": [
    {
     "data": {
      "text/plain": [
       "array([[0.47502081, 0.52497919],\n",
       "       [0.52497919, 0.47502081]])"
      ]
     },
     "execution_count": 90,
     "metadata": {},
     "output_type": "execute_result"
    }
   ],
   "source": [
    "softmax(B_current.T)"
   ]
  },
  {
   "cell_type": "markdown",
   "metadata": {},
   "source": [
    "## Outcome Prediction Errors\n",
    "\n",
    "ςπ,τ = Asπ,τ · ln Asπ,τ − ln Cτ − diag AT ln A · sπ,τ"
   ]
  },
  {
   "cell_type": "code",
   "execution_count": 91,
   "metadata": {},
   "outputs": [],
   "source": [
    "A = np.array([\n",
    "    [.9, .1],\n",
    "    [.1, .9]\n",
    "])\n",
    "\n",
    "C = np.array([1, 0])\n",
    "\n",
    "qs_p1 = np.array([.9, .1])\n",
    "\n",
    "qs_p2 = np.array([.5, .5])"
   ]
  },
  {
   "cell_type": "code",
   "execution_count": 92,
   "metadata": {},
   "outputs": [
    {
     "data": {
      "text/plain": [
       "array([0.82, 0.18])"
      ]
     },
     "execution_count": 92,
     "metadata": {},
     "output_type": "execute_result"
    }
   ],
   "source": [
    "A_qs_p1 = A @ qs_p1\n",
    "A_qs_p1"
   ]
  },
  {
   "cell_type": "code",
   "execution_count": 93,
   "metadata": {},
   "outputs": [
    {
     "data": {
      "text/plain": [
       "2.408606645981375"
      ]
     },
     "execution_count": 93,
     "metadata": {},
     "output_type": "execute_result"
    }
   ],
   "source": [
    "A_qs_p1 @ (log(A_qs_p1) - log(C)) # expected difference between preferred outcomes"
   ]
  },
  {
   "cell_type": "code",
   "execution_count": 94,
   "metadata": {},
   "outputs": [
    {
     "data": {
      "text/plain": [
       "array([0.5, 0.5])"
      ]
     },
     "execution_count": 94,
     "metadata": {},
     "output_type": "execute_result"
    }
   ],
   "source": [
    "A_q_s_2 = A @ qs_p2\n",
    "A_q_s_2"
   ]
  },
  {
   "cell_type": "code",
   "execution_count": 95,
   "metadata": {},
   "outputs": [
    {
     "data": {
      "text/plain": [
       "7.306852988242795"
      ]
     },
     "execution_count": 95,
     "metadata": {},
     "output_type": "execute_result"
    }
   ],
   "source": [
    "A_q_s_2 @ (log(A_q_s_2) - log(C)) # expected difference between preferred outcomes"
   ]
  },
  {
   "cell_type": "code",
   "execution_count": 96,
   "metadata": {},
   "outputs": [],
   "source": [
    "A = np.array([\n",
    "    [.4, .2],\n",
    "    [.6, .8]\n",
    "])\n",
    "\n",
    "qs_p1 = np.array([.9, .1])\n",
    "qs_p2 = np.array([.1, .9])"
   ]
  },
  {
   "cell_type": "code",
   "execution_count": 97,
   "metadata": {},
   "outputs": [
    {
     "data": {
      "text/plain": [
       "0.6557505175918279"
      ]
     },
     "execution_count": 97,
     "metadata": {},
     "output_type": "execute_result"
    }
   ],
   "source": [
    "-1 * np.diag(A.T @ log(A)) @ qs_p1"
   ]
  },
  {
   "cell_type": "code",
   "execution_count": 98,
   "metadata": {},
   "outputs": [
    {
     "data": {
      "text/plain": [
       "0.5176631228149836"
      ]
     },
     "execution_count": 98,
     "metadata": {},
     "output_type": "execute_result"
    }
   ],
   "source": [
    "-1 * np.diag(A.T @ log(A)) @ qs_p2"
   ]
  },
  {
   "cell_type": "markdown",
   "metadata": {},
   "source": [
    "# 3. Building specific task models\n",
    "\n",
    "#FIXME: copied\n",
    "In the beginning of the explore–exploit task, the participant\n",
    "is told that on each trial one machine will tend to pay out more\n",
    "often, but they will not know which one. They are also told that\n",
    "the better machine will not always be the same on each trial.\n",
    "They can choose to select one right away and possibly win $4.\n",
    "Or they can choose to press a button that gives them a hint about\n",
    "which slot machine is better on that trial. However, if they choose\n",
    "to take the hint, they can only win $2 if they pick the correct\n",
    "machine. Over many trials, the participant can learn which slot\n",
    "machine tends to pay out more often and either make safe or\n",
    "risky choices (i.e., take the hint or not).\n",
    "\n",
    "## Capital letters stand for the generative process and lower case letters stand for the generative model."
   ]
  },
  {
   "cell_type": "code",
   "execution_count": 99,
   "metadata": {},
   "outputs": [],
   "source": [
    "# Generative process priors\n",
    "\n",
    "# context: both machines are equally likely to have the better outcome\n",
    "D_1 = np.array([.5, .5]) # numbers in paper \n",
    "# D_1 = np.array([1, 0]) # numbers in code\n",
    "\n",
    "# choices:\n",
    "# 1. start\n",
    "# 2. hint\n",
    "# 3. choose left/0\n",
    "# 4. choose right/1\n",
    "D_2 = np.array([1, 0, 0, 0])\n",
    "\n",
    "D = [D_1, D_2]"
   ]
  },
  {
   "cell_type": "code",
   "execution_count": 100,
   "metadata": {},
   "outputs": [],
   "source": [
    "# Generative model priors\n",
    "\n",
    "d_1 = np.array([.25, .25])\n",
    "\n",
    "d_2 = np.array([1, 0, 0, 0])\n",
    "\n",
    "d = [d_1, d_2]"
   ]
  },
  {
   "cell_type": "code",
   "execution_count": 101,
   "metadata": {},
   "outputs": [],
   "source": [
    "# A_1 represents the observation likelihoods corresponding to the hint given a state \n",
    "# there is a outcome likelihood for each possible choice (start, hint, left, right)\n",
    "# for each likelihood matrix, the rows correspond to the observations, (no hint, left is better, right is better)\n",
    "# and the columns correspond to the number of context (left is better, right is better)\n",
    "\n",
    "phA = 1 # probability of accuracy of the hint\n",
    "\n",
    "A_1 = np.array([\n",
    "    # column 1: # left is better\n",
    "    # column 2: # right is better\n",
    "    # start\n",
    "    [\n",
    "        [1, 1], # no hint\n",
    "        [0, 0], # left is better\n",
    "        [0, 0], # right is better\n",
    "    ],\n",
    "    # hint\n",
    "    [\n",
    "        [0, 0], # no hint\n",
    "        [phA, 1 - phA], # left is better\n",
    "        [1 - phA, phA], # right is better\n",
    "    ],\n",
    "    # choose left\n",
    "    [\n",
    "        [1, 1], # no hint\n",
    "        [0, 0], # left is better\n",
    "        [0, 0], # right is better\n",
    "    ],\n",
    "    # choose right\n",
    "    [\n",
    "        [1, 1], # no hint\n",
    "        [0, 0], # left is better\n",
    "        [0, 0], # right is better\n",
    "    ],\n",
    "])\n",
    "\n",
    "# A_1 may be converted to this form for easier indexing\n",
    "\n",
    "# column 1: start\n",
    "# column 2: hint\n",
    "# column 3: choose left\n",
    "# column 4: choose right\n",
    "\n",
    "A_1 = np.array([\n",
    "    # left is better\n",
    "    [\n",
    "        [1, 0,     1, 1], # no hint\n",
    "        [0, phA,   0, 0], # hint left is better\n",
    "        [0, 1-phA, 0, 0]  # hint right is better\n",
    "    ],\n",
    "    # right is better\n",
    "    [\n",
    "        [1, 0,     1, 1], # no hint\n",
    "        [0, 1-phA, 0, 0], # left is better\n",
    "        [0, phA,   0, 0]  # right is better\n",
    "    ]\n",
    "])\n",
    "\n",
    "'''\n",
    "may have to be converted to this?\n",
    "\n",
    "# column 1: no hint\n",
    "# column 2: hint left is better\n",
    "# column 3: hint right is better\n",
    "\n",
    "\n",
    "A_1 = np.array([\n",
    "    # left is better\n",
    "\n",
    "    [\n",
    "        [1, 0 , 0],      # start\n",
    "        [0, phA, 1-phA], # hint\n",
    "        [1, 0, 0],       # choose left\n",
    "        [1, 0, 0]        # choose right\n",
    "    ],\n",
    "    # right is better\n",
    "    [\n",
    "        [1, 0 , 0],      # start\n",
    "        [0, 1-phA, phA], # hint\n",
    "        [1, 0, 0],       # choose left\n",
    "        [1, 0, 0]        # choose right\n",
    "    ]\n",
    "])\n",
    "'''\n",
    "\n",
    "# A_2 represents the observation likelihoods corresponding to the win/lose outcomes given a state\n",
    "# there is a outcome likelihood for each possible choice (start, hint, left, right)\n",
    "# for each likelihood matrix, the rows correspond to the observations, (undetermined, win, loss)\n",
    "# and the columns correspond to the number of context (left is better, right is better)\n",
    "\n",
    "pWin = .8 # probability of winning\n",
    "\n",
    "A_2 = np.array([\n",
    "    # start\n",
    "    [\n",
    "        [1, 1], # undetermined\n",
    "        [0, 0], # loss\n",
    "        [0, 0], # win\n",
    "    ],\n",
    "    # hint\n",
    "    [\n",
    "        [1, 1], # undetermined\n",
    "        [0, 0], # loss\n",
    "        [0, 0], # win\n",
    "    ],\n",
    "    # choose left\n",
    "    [\n",
    "        [0, 0], # undetermined\n",
    "        [1 - pWin, pWin], # loss\n",
    "        [pWin, 1 - pWin], # win\n",
    "    ],\n",
    "    # choose right\n",
    "    [\n",
    "        [0, 0], # undetermined\n",
    "        [pWin, 1 - pWin], # loss\n",
    "        [1 - pWin, pWin], # win\n",
    "    ],\n",
    "])\n",
    "\n",
    "# A_2 may be converted to this form for easier indexing\n",
    "\n",
    "# column 1: start\n",
    "# column 2: hint\n",
    "# column 3: choose left\n",
    "# column 4: choose right\n",
    "\n",
    "A_2 = np.array([\n",
    "    # left is better\n",
    "    [\n",
    "        [1. , 1. , 0.  ,0. ], # undetermined\n",
    "        [0. , 0. , pWin, 1 - pWin], # win\n",
    "        [0. , 0. , 1 - pWin, pWin]  # loss\n",
    "    ],\n",
    "    # right is better\n",
    "    [\n",
    "        [1. , 1. , 0.  ,0. ], # undetermined\n",
    "        [0. , 0. , 1 - pWin, pWin], # win\n",
    "        [0. , 0. , pWin, 1 - pWin]  # loss\n",
    "    ]\n",
    "])\n",
    "\n",
    "'''\n",
    "A_2 may be converted to this form for easier indexing\n",
    "\n",
    "\n",
    "# column 1: undetermined\n",
    "# column 2: win\n",
    "# column 3: loss\n",
    "\n",
    "A_2 = np.array([\n",
    "    # left is better\n",
    "    [\n",
    "        [1, 0, 0], # start\n",
    "        [1, 0, 0], # hint\n",
    "        [0, pWin, 1 - pWin], # choose left\n",
    "        [0, 1 - pWin, pWin], # choose right\n",
    "    ],\n",
    "    # right is better\n",
    "    [\n",
    "        [1, 0, 0], # start\n",
    "        [1, 0, 0], # hint\n",
    "        [0, 1 - pWin, pWin], # choose left\n",
    "        [0, pWin, 1 - pWin], # choose right\n",
    "    ],\n",
    "])\n",
    "'''\n",
    "\n",
    "\n",
    "# A_3 represents the mapping between the behavior states and observed behaviors\n",
    "\n",
    "A_3 = np.array([\n",
    "    [\n",
    "        [1, 1],\n",
    "        [0, 0],\n",
    "        [0, 0],\n",
    "        [0, 0],\n",
    "    ],\n",
    "    [\n",
    "        [0, 0],\n",
    "        [1, 1],\n",
    "        [0, 0],\n",
    "        [0, 0],\n",
    "    ],\n",
    "    [\n",
    "        [0, 0],\n",
    "        [0, 0],\n",
    "        [1, 1],\n",
    "        [0, 0],\n",
    "    ],\n",
    "    [\n",
    "        [0, 0],\n",
    "        [0, 0],\n",
    "        [0, 0],\n",
    "        [1, 1],\n",
    "    ],\n",
    "])\n",
    "\n",
    "# A_3 may be converted to this form for easier indexing\n",
    "\n",
    "# column 1: start\n",
    "# column 2: hint\n",
    "# column 3: choose left\n",
    "# column 4: choose right\n",
    "\n",
    "A_3 = np.array([\n",
    "    # left is better\n",
    "    [\n",
    "        [1, 0, 0, 0], # start\n",
    "        [0, 1, 0, 0], # hint\n",
    "        [0, 0, 1, 0], # choose left\n",
    "        [0, 0, 0, 1], # choose right\n",
    "    ],\n",
    "    # right is better\n",
    "    [\n",
    "        [1, 0, 0, 0], # start\n",
    "        [0, 1, 0, 0], # hint\n",
    "        [0, 0, 1, 0], # choose left\n",
    "        [0, 0, 0, 1], # choose right\n",
    "    ],\n",
    "])\n",
    "\n",
    "'''\n",
    "A_3 may be converted to this form for easier indexing\n",
    "\n",
    "# column 1: start\n",
    "# column 2: hint\n",
    "# column 3: choose left\n",
    "# column 4: choose right\n",
    "\n",
    "A_3 = np.array([\n",
    "    # left is better\n",
    "    [\n",
    "        [1, 0, 0, 0], # start\n",
    "        [0, 1, 0, 0], # hint\n",
    "        [0, 0, 1, 0], # choose left\n",
    "        [0, 0, 0, 1], # choose right\n",
    "    ],\n",
    "    # right is better\n",
    "    [\n",
    "        [1, 0, 0, 0], # start\n",
    "        [0, 1, 0, 0], # hint\n",
    "        [0, 0, 1, 0], # choose left\n",
    "        [0, 0, 0, 1], # choose right\n",
    "    ],\n",
    "])\n",
    "'''\n",
    "\n",
    "\n",
    "A = [A_1, A_2, A_3]"
   ]
  },
  {
   "cell_type": "code",
   "execution_count": 102,
   "metadata": {},
   "outputs": [
    {
     "data": {
      "text/plain": [
       "array([1., 0., 0.])"
      ]
     },
     "execution_count": 102,
     "metadata": {},
     "output_type": "execute_result"
    }
   ],
   "source": [
    "from functools import reduce\n",
    "\n",
    "reduce(lambda x, y: x.T @ y, D, A_1)"
   ]
  },
  {
   "cell_type": "code",
   "execution_count": 103,
   "metadata": {},
   "outputs": [],
   "source": [
    "tA_1 = np.array([\n",
    "    # left is better\n",
    "\n",
    "    [\n",
    "        [1, 0 , 0],      # start\n",
    "        [0, phA, 1-phA], # hint\n",
    "        [1, 0, 0],       # choose left\n",
    "        [1, 0, 0]        # choose right\n",
    "    ],\n",
    "    # right is better\n",
    "    [\n",
    "        [1, 0 , 0],      # start\n",
    "        [0, 1-phA, phA], # hint\n",
    "        [1, 0, 0],       # choose left\n",
    "        [1, 0, 0]        # choose right\n",
    "    ]\n",
    "])\n",
    "\n",
    "tA_2 = np.array([\n",
    "    # left is better\n",
    "    [\n",
    "        [1, 0, 0], # start\n",
    "        [1, 0, 0], # hint\n",
    "        [0, pWin, 1 - pWin], # choose left\n",
    "        [0, 1 - pWin, pWin], # choose right\n",
    "    ],\n",
    "    # right is better\n",
    "    [\n",
    "        [1, 0, 0], # start\n",
    "        [1, 0, 0], # hint\n",
    "        [0, 1 - pWin, pWin], # choose left\n",
    "        [0, pWin, 1 - pWin], # choose right\n",
    "    ],\n",
    "])\n",
    "\n",
    "tA_3 = np.array([\n",
    "    # left is better\n",
    "    [\n",
    "        [1, 0, 0, 0], # start\n",
    "        [0, 1, 0, 0], # hint\n",
    "        [0, 0, 1, 0], # choose left\n",
    "        [0, 0, 0, 1], # choose right\n",
    "    ],\n",
    "    # right is better\n",
    "    [\n",
    "        [1, 0, 0, 0], # start\n",
    "        [0, 1, 0, 0], # hint\n",
    "        [0, 0, 1, 0], # choose left\n",
    "        [0, 0, 0, 1], # choose right\n",
    "    ],\n",
    "])\n",
    "\n",
    "tA = [tA_1, tA_2, tA_3]"
   ]
  },
  {
   "cell_type": "code",
   "execution_count": 104,
   "metadata": {},
   "outputs": [
    {
     "data": {
      "text/plain": [
       "array([[1, 0, 1, 1],\n",
       "       [1, 0, 1, 1]])"
      ]
     },
     "execution_count": 104,
     "metadata": {},
     "output_type": "execute_result"
    }
   ],
   "source": [
    "t_1 = tA_1 @ np.array([1, 0, 0])\n",
    "t_1"
   ]
  },
  {
   "cell_type": "code",
   "execution_count": 105,
   "metadata": {},
   "outputs": [
    {
     "data": {
      "text/plain": [
       "array([1, 1])"
      ]
     },
     "execution_count": 105,
     "metadata": {},
     "output_type": "execute_result"
    }
   ],
   "source": [
    "t_1 @ np.array([1, 0, 0, 0])"
   ]
  },
  {
   "cell_type": "code",
   "execution_count": 106,
   "metadata": {},
   "outputs": [
    {
     "data": {
      "text/plain": [
       "array([[1, 0, 1, 1],\n",
       "       [1, 0, 1, 1]])"
      ]
     },
     "execution_count": 106,
     "metadata": {},
     "output_type": "execute_result"
    }
   ],
   "source": [
    "np.tensordot(tA_1, np.array([1, 0, 0]), axes=1)"
   ]
  },
  {
   "cell_type": "code",
   "execution_count": 107,
   "metadata": {},
   "outputs": [
    {
     "data": {
      "text/plain": [
       "array([[[1. , 0. , 0. ],\n",
       "        [1. , 0. , 0. ],\n",
       "        [0. , 0.8, 0.2],\n",
       "        [0. , 0.2, 0.8]],\n",
       "\n",
       "       [[1. , 0. , 0. ],\n",
       "        [1. , 0. , 0. ],\n",
       "        [0. , 0.2, 0.8],\n",
       "        [0. , 0.8, 0.2]]])"
      ]
     },
     "execution_count": 107,
     "metadata": {},
     "output_type": "execute_result"
    }
   ],
   "source": [
    "tA_2"
   ]
  },
  {
   "cell_type": "code",
   "execution_count": 108,
   "metadata": {},
   "outputs": [
    {
     "data": {
      "text/plain": [
       "array([[1., 1., 0., 0.],\n",
       "       [1., 1., 0., 0.]])"
      ]
     },
     "execution_count": 108,
     "metadata": {},
     "output_type": "execute_result"
    }
   ],
   "source": [
    "t_2 = tA_2 @ np.array([1, 0, 0])\n",
    "t_2"
   ]
  },
  {
   "cell_type": "code",
   "execution_count": 109,
   "metadata": {},
   "outputs": [
    {
     "data": {
      "text/plain": [
       "array([0., 0.])"
      ]
     },
     "execution_count": 109,
     "metadata": {},
     "output_type": "execute_result"
    }
   ],
   "source": [
    "t_2 @ np.array([0, 0, 1, 0])"
   ]
  },
  {
   "cell_type": "code",
   "execution_count": 110,
   "metadata": {},
   "outputs": [
    {
     "data": {
      "text/plain": [
       "array([[1, 0, 0, 0],\n",
       "       [1, 0, 0, 0]])"
      ]
     },
     "execution_count": 110,
     "metadata": {},
     "output_type": "execute_result"
    }
   ],
   "source": [
    "t_3 = tA_3 @ np.array([1, 0, 0, 0])\n",
    "t_3"
   ]
  },
  {
   "cell_type": "code",
   "execution_count": 111,
   "metadata": {},
   "outputs": [
    {
     "data": {
      "text/plain": [
       "array([1., 1.])"
      ]
     },
     "execution_count": 111,
     "metadata": {},
     "output_type": "execute_result"
    }
   ],
   "source": [
    "dim = (1)\n",
    "(t_1 * t_2 * t_3).sum(axis=dim) / (t_1 * t_2 * t_3 + 1e-16).sum(axis=dim)"
   ]
  },
  {
   "cell_type": "code",
   "execution_count": 112,
   "metadata": {},
   "outputs": [],
   "source": [
    "# B_1 represents the transition probabilities between the context states. Since the agent can not change the context, the transition matrix is the identity matrix\n",
    "\n",
    "B_1 = np.array([\n",
    "    [1, 0], # left is better\n",
    "    [0, 1], # right is better\n",
    "])\n",
    "\n",
    "# Note: technically only one matrix is required but to make python operations easier, we will use two matrices\n",
    "B_1 = np.array([\n",
    "    [\n",
    "        [1, 0], # left is better\n",
    "        [0, 1], # right is better\n",
    "    ],\n",
    "    [\n",
    "        [1, 0], # left is better\n",
    "        [0, 1], # right is better\n",
    "    ],\n",
    "])\n",
    "\n",
    "# B_1 may be converted to this form for easier indexing\n",
    "\n",
    "# B_1 = np.array([\n",
    "#     [\n",
    "#         [1, 0], # left is better\n",
    "#     ],\n",
    "#     [\n",
    "#         [0, 1], # right is better\n",
    "#     ],\n",
    "# ])\n",
    "    \n",
    "\n",
    "B_2 = np.array([\n",
    "    # move to the start state from any other state\n",
    "    [\n",
    "        [1, 1, 1, 1], # start\n",
    "        [0, 0, 0, 0], # hint\n",
    "        [0, 0, 0, 0], # choose left\n",
    "        [0, 0, 0, 0], # choose right\n",
    "    ],\n",
    "    # move to the hint state from any other state\n",
    "    [\n",
    "        [0, 0, 0, 0], # start\n",
    "        [1, 1, 1, 1], # hint\n",
    "        [0, 0, 0, 0], # choose left\n",
    "        [0, 0, 0, 0], # choose right\n",
    "    ],\n",
    "    # move to the choose left state from any other state\n",
    "    [\n",
    "        [0, 0, 0, 0], # start\n",
    "        [0, 0, 0, 0], # hint\n",
    "        [1, 1, 1, 1], # choose left\n",
    "        [0, 0, 0, 0], # choose right\n",
    "    ],\n",
    "    # move to the choose right state from any other state\n",
    "    [\n",
    "        [0, 0, 0, 0], # start\n",
    "        [0, 0, 0, 0], # hint\n",
    "        [0, 0, 0, 0], # choose left\n",
    "        [1, 1, 1, 1], # choose right\n",
    "    ],\n",
    "])\n",
    "\n",
    "# B_2 may be converted to this form for easier indexing\n",
    "\n",
    "# B_2 = np.array([\n",
    "#     # left is better\n",
    "#     [\n",
    "#         [1, 0, 0, 0], # start\n",
    "#         [0, 1, 0, 0], # hint\n",
    "#         [0, 0, 1, 0], # choose left\n",
    "#         [0, 0, 0, 1], # choose right\n",
    "#     ],\n",
    "#     # right is better\n",
    "#     [\n",
    "#         [1, 0, 0, 0], # start\n",
    "#         [0, 1, 0, 0], # hint\n",
    "#         [0, 0, 1, 0], # choose left\n",
    "#         [0, 0, 0, 1], # choose right\n",
    "#     ],\n",
    "# ])\n",
    "\n",
    "# B_2 = np.array(\n",
    "#     [\n",
    "#         [1, 1, 1, 1],\n",
    "#         [1, 1, 1, 1],\n",
    "#         [1, 1, 1, 1],\n",
    "#         [1, 1, 1, 1]\n",
    "#     ]\n",
    "# )\n",
    "\n",
    "# B_2 = np.ones((4, 4)) / 4\n",
    "\n",
    "B = [B_1, B_2]\n",
    "\n",
    "# B_1.T / B_1.T.sum(axis =0)\n",
    "# B_future = [b.T / b.T.sum(axis =-1, keepdims=True) for b in B]\n",
    "B_future = [b.sum(axis = 0).T / b.sum(axis = 0).T.sum(axis = 0) for b in B]\n",
    "# B_2_f = "
   ]
  },
  {
   "cell_type": "code",
   "execution_count": 113,
   "metadata": {},
   "outputs": [
    {
     "data": {
      "text/plain": [
       "[array([[1., 0.],\n",
       "        [0., 1.]]),\n",
       " array([[0.25, 0.25, 0.25, 0.25],\n",
       "        [0.25, 0.25, 0.25, 0.25],\n",
       "        [0.25, 0.25, 0.25, 0.25],\n",
       "        [0.25, 0.25, 0.25, 0.25]])]"
      ]
     },
     "execution_count": 113,
     "metadata": {},
     "output_type": "execute_result"
    }
   ],
   "source": [
    "B_future"
   ]
  },
  {
   "cell_type": "code",
   "execution_count": 114,
   "metadata": {},
   "outputs": [
    {
     "name": "stderr",
     "output_type": "stream",
     "text": [
      "/tmp/ipykernel_13425/4004493251.py:1: RuntimeWarning: invalid value encountered in divide\n",
      "  B_2.T / B_2.T.sum(axis =0)\n"
     ]
    },
    {
     "data": {
      "text/plain": [
       "array([[[0.25,  nan,  nan,  nan],\n",
       "        [ nan, 0.25,  nan,  nan],\n",
       "        [ nan,  nan, 0.25,  nan],\n",
       "        [ nan,  nan,  nan, 0.25]],\n",
       "\n",
       "       [[0.25,  nan,  nan,  nan],\n",
       "        [ nan, 0.25,  nan,  nan],\n",
       "        [ nan,  nan, 0.25,  nan],\n",
       "        [ nan,  nan,  nan, 0.25]],\n",
       "\n",
       "       [[0.25,  nan,  nan,  nan],\n",
       "        [ nan, 0.25,  nan,  nan],\n",
       "        [ nan,  nan, 0.25,  nan],\n",
       "        [ nan,  nan,  nan, 0.25]],\n",
       "\n",
       "       [[0.25,  nan,  nan,  nan],\n",
       "        [ nan, 0.25,  nan,  nan],\n",
       "        [ nan,  nan, 0.25,  nan],\n",
       "        [ nan,  nan,  nan, 0.25]]])"
      ]
     },
     "execution_count": 114,
     "metadata": {},
     "output_type": "execute_result"
    }
   ],
   "source": [
    "B_2.T / B_2.T.sum(axis =0)"
   ]
  },
  {
   "cell_type": "code",
   "execution_count": 115,
   "metadata": {},
   "outputs": [
    {
     "data": {
      "text/plain": [
       "array([[[1., 1.],\n",
       "        [0., 0.]],\n",
       "\n",
       "       [[0., 0.],\n",
       "        [1., 1.]]])"
      ]
     },
     "execution_count": 115,
     "metadata": {},
     "output_type": "execute_result"
    }
   ],
   "source": [
    "B_1.T / B_1.T.sum(axis =0)"
   ]
  },
  {
   "cell_type": "code",
   "execution_count": 116,
   "metadata": {},
   "outputs": [],
   "source": [
    "# B_1 = np.array([\n",
    "#     [\n",
    "#         [1, 0], # left is better\n",
    "#         [0, 1], # right is better\n",
    "#     ],\n",
    "#     [\n",
    "#         [1, 0], # left is better\n",
    "#         [0, 1], # right is better\n",
    "#     ],\n",
    "# ])\n",
    "\n",
    "# B_1.sum(axis = 0).T / B_1.sum(axis = 0).T.sum(axis = 0)"
   ]
  },
  {
   "cell_type": "code",
   "execution_count": 117,
   "metadata": {},
   "outputs": [
    {
     "data": {
      "text/plain": [
       "array([[0.25, 0.25, 0.25, 0.25],\n",
       "       [0.25, 0.25, 0.25, 0.25],\n",
       "       [0.25, 0.25, 0.25, 0.25],\n",
       "       [0.25, 0.25, 0.25, 0.25]])"
      ]
     },
     "execution_count": 117,
     "metadata": {},
     "output_type": "execute_result"
    }
   ],
   "source": [
    "B_2.sum(axis = 0).T / B_2.sum(axis = 0).T.sum(axis = 0)"
   ]
  },
  {
   "cell_type": "code",
   "execution_count": 118,
   "metadata": {},
   "outputs": [
    {
     "data": {
      "text/plain": [
       "array([1., 0., 0., 0.])"
      ]
     },
     "execution_count": 118,
     "metadata": {},
     "output_type": "execute_result"
    }
   ],
   "source": [
    "np.array([[1., 1., 1., 1.],\n",
    "         [0., 0., 0., 0.],\n",
    "         [0., 0., 0., 0.],\n",
    "         [0., 0., 0., 0.]]) @ np.array([1.00000000e+00, 8.27037108e-18, 8.27037108e-18, 8.27037108e-18])"
   ]
  },
  {
   "cell_type": "code",
   "execution_count": 119,
   "metadata": {},
   "outputs": [
    {
     "data": {
      "text/plain": [
       "[array([[1., 0.],\n",
       "        [0., 1.]]),\n",
       " array([[0.25, 0.25, 0.25, 0.25],\n",
       "        [0.25, 0.25, 0.25, 0.25],\n",
       "        [0.25, 0.25, 0.25, 0.25],\n",
       "        [0.25, 0.25, 0.25, 0.25]])]"
      ]
     },
     "execution_count": 119,
     "metadata": {},
     "output_type": "execute_result"
    }
   ],
   "source": [
    "B_future"
   ]
  },
  {
   "cell_type": "code",
   "execution_count": 120,
   "metadata": {},
   "outputs": [
    {
     "data": {
      "text/plain": [
       "array([[0.25, 0.25, 0.25, 0.25],\n",
       "       [0.25, 0.25, 0.25, 0.25],\n",
       "       [0.25, 0.25, 0.25, 0.25],\n",
       "       [0.25, 0.25, 0.25, 0.25]])"
      ]
     },
     "execution_count": 120,
     "metadata": {},
     "output_type": "execute_result"
    }
   ],
   "source": [
    "B_2.sum(axis = 0).T / B_2.sum(axis = 0).T.sum(axis = 0)"
   ]
  },
  {
   "cell_type": "code",
   "execution_count": 121,
   "metadata": {},
   "outputs": [
    {
     "data": {
      "text/plain": [
       "array([[0.5, 0.5],\n",
       "       [0.5, 0.5]])"
      ]
     },
     "execution_count": 121,
     "metadata": {},
     "output_type": "execute_result"
    }
   ],
   "source": [
    "B_1.sum(axis = 1).T / B_1.sum(axis = 1).T.sum(axis = 0)"
   ]
  },
  {
   "cell_type": "code",
   "execution_count": 122,
   "metadata": {},
   "outputs": [],
   "source": [
    "\n",
    "# rows are observations, columns indicate time points\n",
    "\n",
    "# no preference for observing a hint or not\n",
    "\n",
    "C_1 = np.array([\n",
    "    [0, 0, 0],\n",
    "    [0, 0, 0],\n",
    "    [0, 0, 0]\n",
    "])\n",
    "\n",
    "# Preference for observing a win and not a loss\n",
    "\n",
    "C_2 = np.array([\n",
    "    [0, 0, 0],\n",
    "    [0, -1, -1],\n",
    "    [0, 4, 2]\n",
    "])\n",
    "\n",
    "# no preference for observing any action\n",
    "\n",
    "C_3 = np.array([\n",
    "    [0, 0, 0],\n",
    "    [0, 0, 0],\n",
    "    [0, 0, 0],\n",
    "    [0, 0, 0],\n",
    "])\n",
    "\n",
    "C = [C_1, C_2, C_3]"
   ]
  },
  {
   "cell_type": "code",
   "execution_count": 123,
   "metadata": {},
   "outputs": [
    {
     "data": {
      "text/plain": [
       "array([[-1.09861195, -4.02473859, -2.16984503],\n",
       "       [-1.09861195, -5.02472777, -3.16984334],\n",
       "       [-1.09861195, -0.02474477, -0.16984589]])"
      ]
     },
     "execution_count": 123,
     "metadata": {},
     "output_type": "execute_result"
    }
   ],
   "source": [
    "log(softmax(C_2))"
   ]
  },
  {
   "cell_type": "code",
   "execution_count": 124,
   "metadata": {},
   "outputs": [],
   "source": [
    "# allowable policies\n",
    "\n",
    "U = np.array([\n",
    "    [\n",
    "        [0, 0],\n",
    "        [0, 1],\n",
    "        [0, 2],\n",
    "        [0, 3]\n",
    "    ]\n",
    "])"
   ]
  },
  {
   "cell_type": "code",
   "execution_count": 125,
   "metadata": {},
   "outputs": [],
   "source": [
    "# rows correspond to time points, columns correspond to context states\n",
    "\n",
    "V = np.array([\n",
    "    [\n",
    "        [0, 0],\n",
    "        [0, 1],\n",
    "        [0, 1],\n",
    "        [0, 2],\n",
    "        [0, 3]\n",
    "    ],\n",
    "    [\n",
    "        [0, 0],\n",
    "        [0, 2],\n",
    "        [0, 3],\n",
    "        [0, 0],\n",
    "        [0, 0]\n",
    "    ]\n",
    "])\n",
    "\n",
    "V = np.array([\n",
    "    \n",
    "    [\n",
    "        [0, 0, 0, 0, 0],\n",
    "        [0, 0, 0, 0, 0]\n",
    "    ],\n",
    "    # column 1: stay in the start state on the first and second time points\n",
    "    # column 2: move to the hint state on the first and to the left state on the second time point\n",
    "    # column 3: move to the hint state on the first and to the right state on the second time point\n",
    "    # column 4: move to the left state on the first and to the start state on the second time point\n",
    "    # column 5: move to the right state on the first and to the start state on the second time point\n",
    "    [\n",
    "        [0, 1, 1, 2, 3],\n",
    "        [0, 2, 3, 0, 0]\n",
    "    ]\n",
    "])"
   ]
  },
  {
   "cell_type": "code",
   "execution_count": null,
   "metadata": {},
   "outputs": [],
   "source": []
  },
  {
   "cell_type": "code",
   "execution_count": 126,
   "metadata": {},
   "outputs": [],
   "source": [
    "eta = 0.5 # learning rate\n",
    "omega = 1 # forgetting rate\n",
    "beta = 1 # expected precision of expected free energy (G) over policies. (a positive value, with higher values indicating lower expected precision).\n",
    "alpha = 32 # An 'inverse temperature' or 'action precision' parameter that controls how much randomness there is when selecting actions\n",
    "erp = 1 # degree of belief resetting at each time point in a trial when simulating neural responses\n",
    "tau = 12 # time constant for evidence accumulation.\n",
    "zeta = 3 # Occam window policies"
   ]
  },
  {
   "cell_type": "code",
   "execution_count": 136,
   "metadata": {},
   "outputs": [],
   "source": [
    "# in this function they use a smaller epsilon value for the log function\n",
    "def d_softmax(x, axis = 0):\n",
    "    # stable softmax\n",
    "    e_x = np.exp(x - np.max(x))\n",
    "    return e_x / e_x.sum(axis=axis, keepdims=True)\n",
    "\n",
    "def spm_log(x):\n",
    "    return np.log(x + 1e-16)\n",
    "\n",
    "def multi_dot(a, b, dim):\n",
    "    if dim == 0:\n",
    "        return np.sum(a @ b[1].reshape(-1, 1), axis = 1)\n",
    "    elif dim == 1:\n",
    "        return np.sum(a * b[0].reshape(-1, 1), axis = 0)# np.sum(a @ b[0].reshape(-1, 1), axis = dim)\n",
    "    raise ValueError(\"dim must be 0 or 1\")\n",
    "\n",
    "def multi_dot_no_dim(a, b):\n",
    "    _X = copy.deepcopy(a)\n",
    "    DIM = np.arange(len(b)) + _X.ndim - len(b)\n",
    "\n",
    "    for i in range(len(b)):\n",
    "        # print(i)\n",
    "        s = np.ones(_X.ndim)\n",
    "        s[DIM[i]] = len(b[i])\n",
    "        _X = (_X * b[i].reshape(s.astype(int)))\n",
    "        \n",
    "        _X = _X.sum(axis = i + 1, keepdims = True)\n",
    "\n",
    "    return _X.squeeze()\n",
    "\n",
    "def sum_probs(prob_array):\n",
    "    # FIXME: further understand this fn. normalisation of a probability transition matrix (columns)\n",
    "    s = prob_array + 1e-16\n",
    "    s = (1 / np.sum(s, axis=0) - 1/ s) / 2\n",
    "    return s\n",
    "\n",
    "def normalize(x):\n",
    "    x = x / x.sum(axis = 0)\n",
    "    x[np.isnan(x)] = 1/x.shape[0]\n",
    "    return x\n",
    "\n",
    "# MDP_VB_X_TUTORIAL defined & initialized\n",
    "T = 3\n",
    "\n",
    "s = np.zeros((2, 3), dtype=int)\n",
    "o = np.zeros((3, 3))\n",
    "n = np.zeros((3, 3))\n",
    "\n",
    "# outside variables\n",
    "# state_sizes = [2, 4]\n",
    "state_sizes = [len(d) for d in D]\n",
    "Nu = 4#[1, 4]\n",
    "Np = 5\n",
    "No = [3, 3, 4]\n",
    "Ni = 16\n",
    "Ng = 3 # number of outcome factors\n",
    "Nf = 2\n",
    "M = [1, 1, 1]\n",
    "S = 3\n",
    "policies = np.arange(Np) #5\n",
    "\n",
    "\n",
    "#FIXME: can be replaced with capital U?\n",
    "# u = np.zeros((T, 1))\n",
    "u = []\n",
    "\n",
    "F_hist = np.zeros((T, Np))\n",
    "Q_hist = np.zeros((T, Np))\n",
    "H_hist = np.zeros(T)\n",
    "\n",
    "qE = spm_log(np.ones(5) / 5)\n",
    "\n",
    "qb = beta # rate parameters\n",
    "w = np.array([1/qb] * T) # posterior precision (policy)\n",
    "\n",
    "pD = copy.deepcopy(d)\n",
    "wD = [sum_probs(_d) for _d in d]\n",
    "\n",
    "# X = copy.deepcopy(D) # TODO: maybe have to be expanded by time points\n",
    "\n",
    "X = [np.zeros((T, *_d.shape)) for _d in D]\n",
    "for i, _d in enumerate(D):\n",
    "    X[i][0] = _d\n",
    "\n",
    "x = [np.ones((ns, T, Np)) / ns for ns in state_sizes]\n",
    "\n",
    "P = np.zeros((T, Nu))\n",
    "\n",
    "\n",
    "for k in range(Np):\n",
    "    for f in range(Nf):\n",
    "        x[f][:, 0, k] = D[f]\n",
    "\n",
    "xn = [np.zeros((Ni, ns, S, T, Np)) + 1/ns for ns in state_sizes]\n",
    "vn = [np.zeros((Ni, ns, S, T, Np)) for ns in state_sizes]\n",
    "\n",
    "wn = np.zeros(T * Ni)\n",
    "un = np.zeros((T * Ni, Np))\n",
    "ext_u = np.zeros((T, Np))\n",
    "\n",
    "ext_A = []\n",
    "for g in range(Ng):\n",
    "    ext_A.append(normalize(np.transpose(A[g], axes=(1, 2, 0))))\n",
    "\n",
    "ext_C = [spm_log(softmax(c)) for c in C] \n",
    "# transition probabilities\n",
    "\n",
    "\n",
    "\n",
    "# variables initialized and used in the loop\n",
    "xqq = [np.zeros_like(_d) for _d in D]\n",
    "xq = [np.zeros_like(_d) for _d in D]\n",
    "\n",
    "# may have to be expanded to fit factors\n",
    "L = np.ones((T, 2, 4))\n",
    "\n",
    "\n",
    "np.random.seed(42)\n",
    "\n",
    "outs = [\n",
    "    #np.zeros((T, a.shape[-1])) for a in A\n",
    "    [] for _ in range(Ng)\n",
    "]\n",
    "\n",
    "qs_arr = [\n",
    "    np.ones((T, Np, len(d))) / len(d) for d in D\n",
    "]\n",
    "\n",
    "qs_history_arr = [\n",
    "    np.ones((T, S, Ni, Np, state_size)) for state_size in state_sizes\n",
    "]\n",
    "\n",
    "for k in range(Np):\n",
    "    for f in range(Nf):\n",
    "        qs_arr[f][0][k] = D[f]\n",
    "# for f in range(Nf):\n",
    "        # x[f][:, 0, k] = D[f]\n",
    "\n",
    "# belief updating over successive time points\n",
    "for t in range(T):\n",
    "\n",
    "    # generative process \n",
    "\n",
    "    # sample state, if not specified\n",
    "    for f in range(Nf):\n",
    "\n",
    "        if s[f, t] == 0:\n",
    "    \n",
    "            if t > 0:\n",
    "                #TODO: check if out put is correct\n",
    "                ps = B[f][u[t -1][f]][:,int(s[f, t - 1])] #B[f][int(s[f, t - 1])][u[t -1][f]]\n",
    "            else:\n",
    "                \n",
    "                ps = D[f] / D[f].sum() # ensure ps is normalized\n",
    "            # sample state\n",
    "            s[f, t] = np.argmax(np.random.rand() < np.cumsum(ps)) # FIXME: check if argmax is correct\n",
    "\n",
    "    # posterior predictive density over hidden (external) states\n",
    "        # Bayesian model average (xq)\n",
    "        xq[f] = X[f][t]\n",
    "\n",
    "    # sample outcome given the current state if not specified\n",
    "    for g in range(Ng):\n",
    "        # if outcome not specified\n",
    "        if len(outs[g]) <= t:\n",
    "            # sample outcome\n",
    "\n",
    "            if n[g, t]: # outcome is generated by model n if not 0\n",
    "                pass\n",
    "            else: # or sampled from likelihood given hidden states\n",
    "                #fs_1_index, fs_2_index = s[:, t] #FIXME: has to be generalized\n",
    "                # po = A[g][int(ind[0]), :, int(ind[1])]\n",
    "\n",
    "                factor_state_indices = s[:, t] \n",
    "                po = tA[g][*factor_state_indices]\n",
    "                # po = A[g][fs_1_index, :, fs_2_index]\n",
    "                o_index = np.argmax(np.random.rand() < np.cumsum(po))\n",
    "                os = np.zeros(No[g])\n",
    "                os[o_index] = 1\n",
    "                \n",
    "                outs[g].append(os)\n",
    "            \n",
    "\n",
    "    # eliminate unlikely policies\n",
    "    if len(u) - 1 < t  and t > 0: # TODO: len u has to be changed (should check if U is defined)\n",
    "        F = np.log(ext_u[t - 1]) \n",
    "        policies = policies[(F - np.max(F)) > -zeta]\n",
    "\n",
    "    # processing time and reset\n",
    "    # for f in range(Nf):\n",
    "    #     x[f] = softmax(spm_log(x[f]) / erp)\n",
    "\n",
    "    for f in range(Nf):\n",
    "        qs_arr[f] = d_softmax(spm_log(qs_arr[f]) / erp, axis = -1)\n",
    "\n",
    "\n",
    "    S = V.shape[0] + 1 # horizon\n",
    "\n",
    "    R = S\n",
    "\n",
    "    F = np.zeros(Np)\n",
    "    for k in policies: # loop over plausible policies\n",
    "        dF = 1 # reset criterion for this policy\n",
    "        for i in range(Ni): # iterate belief updates\n",
    "            F[k] = 0  # reset free energy for this policy\n",
    "            for tt in range(S): # loop over future time points\n",
    "                # current posterior over outcome factors\n",
    "                if tt <= t:\n",
    "                    for f in range(Nf):\n",
    "                        xq[f] = qs_arr[f][tt][k]# x[f][:, tt, k]\n",
    "\n",
    "                    tt_outs = [o[tt] for o in outs]\n",
    "\n",
    "                    sp_o = np.prod([a @ o for a, o in zip(tA, tt_outs)], axis = 0)\n",
    "                    \n",
    "\n",
    "                for f in range(Nf):\n",
    "                    # hidden states for this time and policy\n",
    "                    sx = qs_arr[f][tt][k]#x[f][:, tt, k]\n",
    "                    v = np.zeros(state_sizes[f])\n",
    "\n",
    "                    # evaluate free energy and gradients\n",
    "                    if dF > np.exp(-8) or i > 3: # early stopping criterion for gradient descent\n",
    "                        # marginal likelihood over outcome factors\n",
    "                        if tt <= t:\n",
    "                            reduce_dims = tuple(fi for fi in list(range(Nf)) if fi != f)\n",
    "                            # _qx = reduce(lambda x, y: (x[..., np.newaxis] * y), xq)#.sum(axis=f)\n",
    "                            # qL = reduce(lambda x, y: (x * y).sum(axis = reduce_dims), [xq[i] for i in reduce_dims], sp_o )\n",
    "                            # qL = (_qx *sp_o).sum(axis=reduce_dims) / (sp_o + 1e-16).sum(axis=reduce_dims)\n",
    "                            qL = sp_o.sum(axis=reduce_dims) / (sp_o + 1e-16).sum(axis=reduce_dims)\n",
    "                            qL = spm_log(qL)\n",
    "                        else:\n",
    "                            qL = 0\n",
    "\n",
    "                        # entropy\n",
    "                        qx = spm_log(sx) # FIXME: qx values are not the same as in the matlab code\n",
    "\n",
    "                        # empirical priors (forward messages)\n",
    "                        if tt == 0:\n",
    "                            log_B_past = spm_log(D[f])\n",
    "                        else:\n",
    "                            log_B_past = spm_log(B[f][V[f, tt - 1, k]] @ qs_arr[f][tt - 1][k])\n",
    "                        v = v + log_B_past + qL - qx # FIXME: adding to v incrementally to stay closer to the matlab code (precision changes slightly)\n",
    "\n",
    "\n",
    "                        if tt == T - 1:\n",
    "                            log_B_future = 0\n",
    "                        else:\n",
    "                            log_B_future = spm_log(B_future[f].T @ qs_arr[f][tt + 1][k])\n",
    "                        v = v + log_B_future + qL - qx # FIXME: adding to v incrementally to stay closer to the matlab code (precision changes slightly)\n",
    "\n",
    "                        # v = ((log_B_past + log_B_future) + 2*(qL - qx))#(0.5 * (log_B_past + log_B_future) + qL - qx) # TODO: for some reason they do ((log_B_past + log_B_future) + 2*(qL - qx))\n",
    "\n",
    "                        if tt == 0 or tt == S - 1:\n",
    "                            F[k] = F[k] + np.dot(sx.T, v * 0.5) # remove the 0.5 when going back to (0.5 * (log_B_past + log_B_future) + qL - qx)\n",
    "                        else:\n",
    "                            F[k] = F[k] + np.dot(sx.T, v * 0.5 - (Nf - 1) * qL / Nf)\n",
    "\n",
    "                        v -= np.mean(v) # TODO: this line shouldn't be necessary\n",
    "                        # v = 2*v - np.mean(2 * v) # TODO: this line shouldn't be necessary\n",
    "\n",
    "                        sx = softmax(qx + v / tau)\n",
    "                    else:\n",
    "                        v = np.zeros(state_sizes[f])\n",
    "                        F[k] = G[k]\n",
    "\n",
    "                    qs_arr[f][tt][k] = sx\n",
    "                    qs_history_arr[f][t, tt, i, k] = sx\n",
    "                    xq[f] = sx\n",
    "                    # xn[f][i, :, tt, t, k] = sx\n",
    "                    # vn[f][i, :, tt, t, k] = v\n",
    "\n",
    "            if i > 0:\n",
    "                dF = F[k] - G[k]\n",
    "            \n",
    "            G = F.copy()\n",
    "\n",
    "    # accumulate expected free energy over policies (Q)\n",
    "    pu = 1 # empirical prior\n",
    "    qu = 1 # posterior\n",
    "    Q = np.zeros(Np) # expected free energy over policies\n",
    "\n",
    "    if Np > 0: #FIXME: check if this should be 1\n",
    "        for k in policies:\n",
    "            # bayesian surprise about initial conditions\n",
    "            for f in range(Nf):\n",
    "                Q[k] = Q[k] - wD[f] @ qs_arr[f][0][k] # FIXME: should be spm_dot\n",
    "\n",
    "            pass\n",
    "            # iterate over current and future time points\n",
    "            for tt in range(t, S):\n",
    "                # get expected states for this policy and time point\n",
    "                for f in range(Nf): # TODO: check if required\n",
    "                    xq[f] = qs_arr[f][tt][k]\n",
    "\n",
    "                # g_G = []\n",
    "                # ln_o_arr = []\n",
    "                # pu_arr = []\n",
    "                G = 0\n",
    "                for g in range(Ng):\n",
    "                    #  Bayesian surprise about outcomes\n",
    "                    # we have to define qo again because in the spm_MDP\n",
    "                    qo = reduce(lambda x, y: y @ x, xq[::-1], tA[g])\n",
    "                    ln_o = qo @ np.log(qo + 1e-16)\n",
    "\n",
    "                    H_A = (tA[g] * np.log(tA[g] + 1e-16)).sum(axis = -1)\n",
    "                    pu = reduce(lambda x, y: y @ x, xq, H_A)\n",
    "\n",
    "                    G += pu - ln_o\n",
    "\n",
    "                Q[k] += G\n",
    "\n",
    "                pass\n",
    "\n",
    "                for g in range(Ng):\n",
    "                    # prior preferences over outcomes\n",
    "                    qo = reduce(lambda x, y: y @ x, xq[::-1], tA[g])\n",
    "                    Q[k] += qo @ spm_log(softmax(C[g][:,tt]))\n",
    "\n",
    "                pass\n",
    "\n",
    "    # previous expected precision\n",
    "    if t > 0:\n",
    "        w[t] = w[t - 1]\n",
    "\n",
    "    for i in range(Ni):\n",
    "        #posterior and prior beliefs about policies\n",
    "        qu = softmax(qE[policies] + w[t] * Q[policies] + F[policies])\n",
    "        pu = softmax(qE[policies] + w[t] * Q[policies])\n",
    "\n",
    "        # precision (w) with free energy gradients (v = -dF/dw)\n",
    "        eg = (qu - pu) @ Q[policies]\n",
    "        dFdg = qb - beta + eg\n",
    "        qb = qb - dFdg / 2\n",
    "        w[t] = 1/qb\n",
    "\n",
    "        # simulated dopamine responses (expected precision)\n",
    "        _n = t * Ni + i #TODO: originally was t - 1\n",
    "        wn[_n] = w[t]\n",
    "        un[_n][policies] = qu\n",
    "        ext_u[t][policies] = qu\n",
    "\n",
    "\n",
    "    # bayesian model averaging (over policies)\n",
    "    for f in range(Nf):\n",
    "        for tt in range(S):\n",
    "            X[f][tt] =  ext_u[t] @ qs_arr[f][tt] #FIXME: might be cause for troubles\n",
    "\n",
    "    \n",
    "    # processing (reaction) time\n",
    "    F_hist[t] = F\n",
    "    Q_hist[t] = Q\n",
    "    H_hist[t] = qu @ F[policies] - qu @ (spm_log(qu) - spm_log(pu))\n",
    "\n",
    "\n",
    "    if t < T -1:\n",
    "\n",
    "        Pu = np.zeros(Nu)\n",
    "\n",
    "        for k in range(Np):\n",
    "            Pu[V[1, t, k]] += ext_u[t][k] # still tiny differences in outcome\n",
    "\n",
    "        Pu = softmax(spm_log(Pu) * alpha)\n",
    "        P[t] = Pu\n",
    "\n",
    "        if len(u) > t: # TODO: maybe should be filled with nan instead?\n",
    "            u[t] = u[t] # unecessary assignment\n",
    "        else:\n",
    "            idx = np.argmax(np.random.rand() < np.cumsum(Pu))\n",
    "            u.append(np.unravel_index(idx, [1, Nu]))\n",
    "\n",
    "        pass\n",
    "\n",
    "    #TODO: There's code to check if U is used\n",
    "            \n",
    "# if t == T:\n",
    "#     if T == 1:\n",
    "#         u = np.zeros((T, 1))\n",
    "#         o = None\n",
    "#         s = None\n",
    "#         u = None\n",
    "\n",
    "\n",
    "\n"
   ]
  },
  {
   "cell_type": "code",
   "execution_count": 138,
   "metadata": {},
   "outputs": [],
   "source": [
    "from scipy import special\n",
    "\n",
    "def betaln(x):\n",
    "    # only compute the gammaln for elements greater than 0\n",
    "    x = x[x > 0]\n",
    "    return special.gammaln(x).sum() - special.gammaln(x.sum())\n",
    "\n",
    "def psi(x):\n",
    "    return special.psi(x) - special.psi(x.sum())\n",
    "\n",
    "pD = copy.deepcopy(d)\n",
    "# learning - accumulate concentration parameters\n",
    "# X is different \n",
    "# initial hidden states\n",
    "for f in range(Nf):\n",
    "    i = d[f] > 0\n",
    "    # d[f][i] = d[f][i] * omega + X[f][0, i] * eta # TODO: (seems like correct output [(1.0000e+00, 1.2525e-08), (1)])\n",
    "    d[f] = (d[f] * omega + X[f][0] * eta) * i # TODO: (seems like correct output [(1.0000e+00, 1.2525e-08), (1)])\n",
    "\n",
    "Fd = np.zeros(Nf)\n",
    "# (negative) free energy of parameters: state specific\n",
    "# compute KL divergence between two dirichlet distributions\n",
    "for f in range(Nf):\n",
    "    Fd[f] = - ( betaln(pD[f]) - betaln(d[f]) - np.sum((pD[f] - d[f]) * psi(d[f] + 1/32))) \n",
    "    # 0.2473\n",
    "    # -0.04099317344047182\n",
    "\n",
    "# simulated dopamine (or cholinergic) responses\n",
    "# wn is different\n",
    "if Np > 1:\n",
    "    dn = 8 * np.gradient(wn) + wn / 8 \n",
    "\n",
    "# Bayesian model averaging of expected hidden states over policies\n",
    "Xn_arr = []\n",
    "Vn_arr = []\n",
    "for f in range(Nf):\n",
    "    Xn = np.zeros((Ni, state_sizes[f], T, T))\n",
    "    Vn = np.zeros((Ni, state_sizes[f], T, T))\n",
    "\n",
    "    for t in range(T):\n",
    "        for k in range(Np):\n",
    "            Xn[:, :, :, t] = Xn[:, :, :, t] + np.transpose(qs_history_arr[f][t,:,:,k], (1, 2, 0)) * ext_u[t, k]\n",
    "            Vn[:, :, :, t] = Vn[:, :, :, t] + vn[f][:, :, :, t, k] * ext_u[t, k]\n",
    "\n",
    "    Xn_arr.append(Xn)\n",
    "    Vn_arr.append(Vn)\n",
    "\n",
    "# number of belief updates (T)\n",
    "# number of outcomes (O)\n",
    "# probability of action at time point (P)\n",
    "# conditional expectations over policies ((ext_)u) -> R\n",
    "# conditional expectations over N states (x -> Q)\n",
    "# Bayesian model averages over T outcomes (X)\n",
    "# utility (C)\n",
    "# posterior expectations of precision (policy) (w)\n",
    "# simulated neuronal prediction error (Vn)\n",
    "# simulated neuronal encoding of hidden states (Xn)\n",
    "# simulated neuronal encoding of policies (un)\n",
    "# simulated neuronal encoding of precision (wn)\n",
    "# simulated dopamine responses (deconvolved) (dn)\n",
    "# simulated reaction time (seconds) (rt)\n",
    "pass"
   ]
  },
  {
   "cell_type": "code",
   "execution_count": 139,
   "metadata": {},
   "outputs": [
    {
     "data": {
      "text/plain": [
       "[array([[[[5.00000000e-01, 5.00000000e-01, 9.99999894e-01],\n",
       "          [5.00000000e-01, 9.97850197e-01, 1.00000000e+00],\n",
       "          [5.00000000e-01, 6.25201530e-01, 9.99999931e-01]],\n",
       " \n",
       "         [[5.00000000e-01, 5.00000000e-01, 1.05800290e-07],\n",
       "          [5.00000000e-01, 2.14980308e-03, 1.25973123e-17],\n",
       "          [5.00000000e-01, 3.74798470e-01, 6.89049029e-08]]],\n",
       " \n",
       " \n",
       "        [[[5.00000000e-01, 6.25201530e-01, 9.99999928e-01],\n",
       "          [5.00000000e-01, 9.99988140e-01, 1.00000000e+00],\n",
       "          [5.00000000e-01, 7.97638795e-01, 9.99999950e-01]],\n",
       " \n",
       "         [[5.00000000e-01, 3.74798470e-01, 7.21162369e-08],\n",
       "          [5.00000000e-01, 1.18595695e-05, 7.09518337e-18],\n",
       "          [5.00000000e-01, 2.02361205e-01, 5.02368735e-08]]],\n",
       " \n",
       " \n",
       "        [[[5.00000000e-01, 7.97638795e-01, 9.99999928e-01],\n",
       "          [5.00000000e-01, 9.99999865e-01, 1.00000000e+00],\n",
       "          [5.00000000e-01, 9.21391202e-01, 9.99999950e-01]],\n",
       " \n",
       "         [[5.00000000e-01, 2.02361205e-01, 7.21162369e-08],\n",
       "          [5.00000000e-01, 1.34621730e-07, 7.09518337e-18],\n",
       "          [5.00000000e-01, 7.86087976e-02, 5.02368735e-08]]],\n",
       " \n",
       " \n",
       "        [[[5.00000000e-01, 9.21391202e-01, 9.99999928e-01],\n",
       "          [5.00000000e-01, 9.99999997e-01, 1.00000000e+00],\n",
       "          [5.00000000e-01, 9.75771663e-01, 9.99999950e-01]],\n",
       " \n",
       "         [[5.00000000e-01, 7.86087976e-02, 7.21162369e-08],\n",
       "          [5.00000000e-01, 2.68802850e-09, 7.09518337e-18],\n",
       "          [5.00000000e-01, 2.42283368e-02, 5.02368735e-08]]],\n",
       " \n",
       " \n",
       "        [[[5.00000000e-01, 9.75771663e-01, 9.99999948e-01],\n",
       "          [5.00000000e-01, 1.00000000e+00, 1.00000000e+00],\n",
       "          [5.00000000e-01, 9.93394452e-01, 9.99999961e-01]],\n",
       " \n",
       "         [[5.00000000e-01, 2.42283368e-02, 5.21805172e-08],\n",
       "          [5.00000000e-01, 8.38862549e-11, 6.45187386e-18],\n",
       "          [5.00000000e-01, 6.60554782e-03, 3.85876455e-08]]],\n",
       " \n",
       " \n",
       "        [[[5.00000000e-01, 9.93394452e-01, 9.99999960e-01],\n",
       "          [5.00000000e-01, 1.00000000e+00, 1.00000000e+00],\n",
       "          [5.00000000e-01, 9.98291129e-01, 9.99999969e-01]],\n",
       " \n",
       "         [[5.00000000e-01, 6.60554782e-03, 3.98278101e-08],\n",
       "          [5.00000000e-01, 3.74576581e-12, 6.14017366e-18],\n",
       "          [5.00000000e-01, 1.70887051e-03, 3.09644629e-08]]],\n",
       " \n",
       " \n",
       "        [[[5.00000000e-01, 9.98291129e-01, 9.99999968e-01],\n",
       "          [5.00000000e-01, 1.00000000e+00, 1.00000000e+00],\n",
       "          [5.00000000e-01, 9.99563263e-01, 9.99999974e-01]],\n",
       " \n",
       "         [[5.00000000e-01, 1.70887051e-03, 3.17915723e-08],\n",
       "          [5.00000000e-01, 2.23976354e-13, 5.90198082e-18],\n",
       "          [5.00000000e-01, 4.36736921e-04, 2.57708238e-08]]],\n",
       " \n",
       " \n",
       "        [[[5.00000000e-01, 9.99563263e-01, 9.99999974e-01],\n",
       "          [5.00000000e-01, 1.00000000e+00, 1.00000000e+00],\n",
       "          [5.00000000e-01, 9.99886975e-01, 9.99999978e-01]],\n",
       " \n",
       "         [[5.00000000e-01, 4.36736921e-04, 2.63432092e-08],\n",
       "          [5.00000000e-01, 1.70633760e-14, 5.71131991e-18],\n",
       "          [5.00000000e-01, 1.13025340e-04, 2.21114408e-08]]],\n",
       " \n",
       " \n",
       "        [[[5.00000000e-01, 9.99886975e-01, 9.99999977e-01],\n",
       "          [5.00000000e-01, 1.00000000e+00, 1.00000000e+00],\n",
       "          [5.00000000e-01, 9.99969784e-01, 9.99999981e-01]],\n",
       " \n",
       "         [[5.00000000e-01, 1.13025340e-04, 2.25199468e-08],\n",
       "          [5.00000000e-01, 1.60093273e-15, 5.55733549e-18],\n",
       "          [5.00000000e-01, 3.02156238e-05, 1.94597940e-08]]],\n",
       " \n",
       " \n",
       "        [[[5.00000000e-01, 9.99969784e-01, 9.99999980e-01],\n",
       "          [5.00000000e-01, 1.00000000e+00, 1.00000000e+00],\n",
       "          [5.00000000e-01, 9.99991323e-01, 9.99999983e-01]],\n",
       " \n",
       "         [[5.00000000e-01, 3.02156238e-05, 1.97589336e-08],\n",
       "          [5.00000000e-01, 1.87188887e-16, 5.43228020e-18],\n",
       "          [5.00000000e-01, 8.67722330e-06, 1.74929478e-08]]],\n",
       " \n",
       " \n",
       "        [[[5.00000000e-01, 9.99991323e-01, 9.99999982e-01],\n",
       "          [5.00000000e-01, 1.00000000e+00, 1.00000000e+00],\n",
       "          [5.00000000e-01, 9.99997120e-01, 9.99999984e-01]],\n",
       " \n",
       "         [[5.00000000e-01, 8.67722330e-06, 1.77167499e-08],\n",
       "          [5.00000000e-01, 3.45305728e-17, 5.33026240e-18],\n",
       "          [5.00000000e-01, 2.87996770e-06, 1.60053533e-08]]],\n",
       " \n",
       " \n",
       "        [[[5.00000000e-01, 9.99997120e-01, 9.99999984e-01],\n",
       "          [5.00000000e-01, 1.00000000e+00, 1.00000000e+00],\n",
       "          [5.00000000e-01, 9.99998866e-01, 9.99999985e-01]],\n",
       " \n",
       "         [[5.00000000e-01, 2.87996770e-06, 1.61758140e-08],\n",
       "          [5.00000000e-01, 1.52726935e-17, 5.24672849e-18],\n",
       "          [5.00000000e-01, 1.13405496e-06, 1.48618123e-08]]],\n",
       " \n",
       " \n",
       "        [[[5.00000000e-01, 9.99998866e-01, 9.99999985e-01],\n",
       "          [5.00000000e-01, 1.00000000e+00, 1.00000000e+00],\n",
       "          [5.00000000e-01, 9.99999480e-01, 9.99999986e-01]],\n",
       " \n",
       "         [[5.00000000e-01, 1.13405496e-06, 1.49935971e-08],\n",
       "          [5.00000000e-01, 1.14959394e-17, 5.17811836e-18],\n",
       "          [5.00000000e-01, 5.20155893e-07, 1.39707674e-08]]],\n",
       " \n",
       " \n",
       "        [[[5.00000000e-01, 9.99999480e-01, 9.99999986e-01],\n",
       "          [5.00000000e-01, 1.00000000e+00, 1.00000000e+00],\n",
       "          [5.00000000e-01, 9.99999729e-01, 9.99999987e-01]],\n",
       " \n",
       "         [[5.00000000e-01, 5.20155893e-07, 1.40739277e-08],\n",
       "          [5.00000000e-01, 9.81909588e-18, 5.12162131e-18],\n",
       "          [5.00000000e-01, 2.71332091e-07, 1.32685834e-08]]],\n",
       " \n",
       " \n",
       "        [[[5.00000000e-01, 9.99999729e-01, 9.99999987e-01],\n",
       "          [5.00000000e-01, 1.00000000e+00, 1.00000000e+00],\n",
       "          [5.00000000e-01, 9.99999842e-01, 9.99999987e-01]],\n",
       " \n",
       "         [[5.00000000e-01, 2.71332091e-07, 1.33501794e-08],\n",
       "          [5.00000000e-01, 8.69924909e-18, 5.07499963e-18],\n",
       "          [5.00000000e-01, 1.57617055e-07, 1.27099961e-08]]],\n",
       " \n",
       " \n",
       "        [[[5.00000000e-01, 9.99999842e-01, 9.99999987e-01],\n",
       "          [5.00000000e-01, 1.00000000e+00, 1.00000000e+00],\n",
       "          [5.00000000e-01, 9.99999900e-01, 9.99999988e-01]],\n",
       " \n",
       "         [[5.00000000e-01, 1.57617055e-07, 1.27750969e-08],\n",
       "          [5.00000000e-01, 7.87872605e-18, 5.03645898e-18],\n",
       "          [5.00000000e-01, 1.00172229e-07, 1.22621377e-08]]]]),\n",
       " array([[[[1.00000000e+00, 1.00000000e+00, 1.00000000e+00],\n",
       "          [8.28773398e-02, 1.20485840e-09, 8.43639744e-18],\n",
       "          [5.40829543e-01, 2.64059553e-08, 2.25340213e-11]],\n",
       " \n",
       "         [[8.27037108e-18, 8.43639744e-18, 8.43639744e-18],\n",
       "          [3.77685298e-01, 9.99999996e-01, 1.00000000e+00],\n",
       "          [4.07425793e-02, 2.29396046e-08, 2.25340213e-11]],\n",
       " \n",
       "         [[8.27037108e-18, 8.43639744e-18, 8.43639744e-18],\n",
       "          [2.69718681e-01, 1.20486050e-09, 8.43639744e-18],\n",
       "          [2.09213939e-01, 6.35491307e-02, 1.00225048e-08]],\n",
       " \n",
       "         [[8.27037108e-18, 8.43639744e-18, 8.43639744e-18],\n",
       "          [2.69718681e-01, 1.20486086e-09, 8.43639744e-18],\n",
       "          [2.09213939e-01, 9.36450820e-01, 9.99999990e-01]]],\n",
       " \n",
       " \n",
       "        [[[1.00000000e+00, 1.00000000e+00, 1.00000000e+00],\n",
       "          [5.31780017e-02, 1.15392256e-09, 4.96568577e-18],\n",
       "          [5.92512809e-01, 2.34414191e-08, 1.34184196e-13]],\n",
       " \n",
       "         [[4.95934918e-18, 4.96568577e-18, 4.96568577e-18],\n",
       "          [4.00376230e-01, 9.99999997e-01, 1.00000000e+00],\n",
       "          [3.55548046e-03, 1.99750683e-08, 1.34184196e-13]],\n",
       " \n",
       "         [[4.95934918e-18, 4.96568577e-18, 4.96568577e-18],\n",
       "          [2.73222884e-01, 1.15392465e-09, 4.96568577e-18],\n",
       "          [2.01965855e-01, 6.35491285e-02, 9.99212210e-09]],\n",
       " \n",
       "         [[4.95934918e-18, 4.96568577e-18, 4.96568577e-18],\n",
       "          [2.73222884e-01, 1.15392501e-09, 4.96568577e-18],\n",
       "          [2.01965855e-01, 9.36450828e-01, 9.99999990e-01]]],\n",
       " \n",
       " \n",
       "        [[[1.00000000e+00, 1.00000000e+00, 1.00000000e+00],\n",
       "          [5.06783915e-02, 1.05234153e-09, 4.96568577e-18],\n",
       "          [5.96862671e-01, 2.12658136e-08, 1.34184196e-13]],\n",
       " \n",
       "         [[4.83263811e-18, 4.83288124e-18, 4.96568577e-18],\n",
       "          [4.02285985e-01, 9.99999997e-01, 1.00000000e+00],\n",
       "          [4.25671599e-04, 1.77994628e-08, 1.34184196e-13]],\n",
       " \n",
       "         [[4.83263811e-18, 4.83288124e-18, 4.96568577e-18],\n",
       "          [2.73517812e-01, 1.05234344e-09, 4.96568577e-18],\n",
       "          [2.01355829e-01, 6.35491269e-02, 9.99212210e-09]],\n",
       " \n",
       "         [[4.83263811e-18, 4.83288124e-18, 4.96568577e-18],\n",
       "          [2.73517812e-01, 1.05234377e-09, 4.96568577e-18],\n",
       "          [2.01355829e-01, 9.36450834e-01, 9.99999990e-01]]],\n",
       " \n",
       " \n",
       "        [[[1.00000000e+00, 1.00000000e+00, 1.00000000e+00],\n",
       "          [5.03960123e-02, 2.81198473e-10, 4.96568577e-18],\n",
       "          [5.97354072e-01, 1.96349506e-08, 1.34184196e-13]],\n",
       " \n",
       "         [[4.82777583e-18, 4.82778516e-18, 4.96568577e-18],\n",
       "          [4.02501729e-01, 9.99999999e-01, 1.00000000e+00],\n",
       "          [7.20992495e-05, 1.61685998e-08, 1.34184196e-13]],\n",
       " \n",
       "         [[4.82777583e-18, 4.82778516e-18, 4.96568577e-18],\n",
       "          [2.73551129e-01, 2.81198984e-10, 4.96568577e-18],\n",
       "          [2.01286914e-01, 6.35491256e-02, 9.99212210e-09]],\n",
       " \n",
       "         [[4.82777583e-18, 4.82778516e-18, 4.96568577e-18],\n",
       "          [2.73551129e-01, 2.81199071e-10, 4.96568577e-18],\n",
       "          [2.01286914e-01, 9.36450839e-01, 9.99999990e-01]]],\n",
       " \n",
       " \n",
       "        [[[1.00000000e+00, 1.00000000e+00, 1.00000000e+00],\n",
       "          [5.03515330e-02, 2.04708129e-11, 4.83288124e-18],\n",
       "          [5.97431476e-01, 1.83906408e-08, 1.97293954e-15]],\n",
       " \n",
       "         [[4.82758923e-18, 4.82758958e-18, 4.83288124e-18],\n",
       "          [4.02535712e-01, 1.00000000e+00, 1.00000000e+00],\n",
       "          [1.64058675e-05, 1.49242899e-08, 1.97293954e-15]],\n",
       " \n",
       "         [[4.82758923e-18, 4.82758958e-18, 4.83288124e-18],\n",
       "          [2.73556377e-01, 2.04708501e-11, 4.83288124e-18],\n",
       "          [2.01276059e-01, 6.35491247e-02, 9.46262316e-09]],\n",
       " \n",
       "         [[4.82758923e-18, 4.82758958e-18, 4.83288124e-18],\n",
       "          [2.73556377e-01, 2.04708565e-11, 4.83288124e-18],\n",
       "          [2.01276059e-01, 9.36450842e-01, 9.99999991e-01]]],\n",
       " \n",
       " \n",
       "        [[[1.00000000e+00, 1.00000000e+00, 1.00000000e+00],\n",
       "          [5.03422458e-02, 1.88581328e-12, 4.82778516e-18],\n",
       "          [5.97447638e-01, 1.74271860e-08, 9.02811884e-17]],\n",
       " \n",
       "         [[4.82758207e-18, 4.82758208e-18, 4.82778516e-18],\n",
       "          [4.02542808e-01, 1.00000000e+00, 1.00000000e+00],\n",
       "          [4.77724582e-06, 1.39608351e-08, 9.02811884e-17]],\n",
       " \n",
       "         [[4.82758207e-18, 4.82758208e-18, 4.82778516e-18],\n",
       "          [2.73557473e-01, 1.88581671e-12, 4.82778516e-18],\n",
       "          [2.01273793e-01, 6.35491240e-02, 3.36304606e-09]],\n",
       " \n",
       "         [[4.82758207e-18, 4.82758208e-18, 4.82778516e-18],\n",
       "          [2.73557473e-01, 1.88581730e-12, 4.82778516e-18],\n",
       "          [2.01273793e-01, 9.36450845e-01, 9.99999997e-01]]],\n",
       " \n",
       " \n",
       "        [[[1.00000000e+00, 1.00000000e+00, 1.00000000e+00],\n",
       "          [5.03397951e-02, 2.55393469e-13, 4.82758958e-18],\n",
       "          [5.97451902e-01, 1.66719922e-08, 9.33790833e-18]],\n",
       " \n",
       "         [[4.82758179e-18, 4.82758179e-18, 4.82758958e-18],\n",
       "          [4.02544680e-01, 1.00000000e+00, 1.00000000e+00],\n",
       "          [1.70864151e-06, 1.32056414e-08, 9.33790833e-18]],\n",
       " \n",
       "         [[4.82758179e-18, 4.82758179e-18, 4.82758958e-18],\n",
       "          [2.73557762e-01, 2.55393933e-13, 4.82758958e-18],\n",
       "          [2.01273195e-01, 6.35491234e-02, 2.56652028e-10]],\n",
       " \n",
       "         [[4.82758179e-18, 4.82758179e-18, 4.82758958e-18],\n",
       "          [2.73557762e-01, 2.55394013e-13, 4.82758958e-18],\n",
       "          [2.01273195e-01, 9.36450847e-01, 1.00000000e+00]]],\n",
       " \n",
       " \n",
       "        [[[1.00000000e+00, 1.00000000e+00, 1.00000000e+00],\n",
       "          [5.03390098e-02, 4.82205092e-14, 4.82758208e-18],\n",
       "          [5.97453269e-01, 1.60739652e-08, 5.12763258e-18]],\n",
       " \n",
       "         [[4.82758178e-18, 4.82758178e-18, 4.82758208e-18],\n",
       "          [4.02545280e-01, 1.00000000e+00, 1.00000000e+00],\n",
       "          [7.25342909e-07, 1.26076144e-08, 5.12763258e-18]],\n",
       " \n",
       "         [[4.82758178e-18, 4.82758178e-18, 4.82758208e-18],\n",
       "          [2.73557855e-01, 4.82205967e-14, 4.82758208e-18],\n",
       "          [2.01273003e-01, 6.35491230e-02, 2.23644516e-11]],\n",
       " \n",
       "         [[4.82758178e-18, 4.82758178e-18, 4.82758208e-18],\n",
       "          [2.73557855e-01, 4.82206117e-14, 4.82758208e-18],\n",
       "          [2.01273003e-01, 9.36450848e-01, 1.00000000e+00]]],\n",
       " \n",
       " \n",
       "        [[[1.00000000e+00, 1.00000000e+00, 1.00000000e+00],\n",
       "          [5.03387142e-02, 1.20217327e-14, 4.82758179e-18],\n",
       "          [5.97453783e-01, 1.55963498e-08, 4.85954416e-18]],\n",
       " \n",
       "         [[4.82758178e-18, 4.82758178e-18, 4.82758179e-18],\n",
       "          [4.02545506e-01, 1.00000000e+00, 1.00000000e+00],\n",
       "          [3.55183787e-07, 1.21299990e-08, 4.85954416e-18]],\n",
       " \n",
       "         [[4.82758178e-18, 4.82758178e-18, 4.82758179e-18],\n",
       "          [2.73557890e-01, 1.20217545e-14, 4.82758179e-18],\n",
       "          [2.01272931e-01, 6.35491226e-02, 2.87508987e-12]],\n",
       " \n",
       "         [[4.82758178e-18, 4.82758178e-18, 4.82758179e-18],\n",
       "          [2.73557890e-01, 1.20217582e-14, 4.82758179e-18],\n",
       "          [2.01272931e-01, 9.36450850e-01, 1.00000000e+00]]],\n",
       " \n",
       " \n",
       "        [[[1.00000000e+00, 1.00000000e+00, 1.00000000e+00],\n",
       "          [5.03385870e-02, 3.78015531e-15, 4.82758178e-18],\n",
       "          [5.97454005e-01, 1.52121879e-08, 4.83294941e-18]],\n",
       " \n",
       "         [[4.82758178e-18, 4.82758178e-18, 4.82758178e-18],\n",
       "          [4.02545603e-01, 1.00000000e+00, 1.00000000e+00],\n",
       "          [1.95904498e-07, 1.17458370e-08, 4.83294941e-18]],\n",
       " \n",
       "         [[4.82758178e-18, 4.82758178e-18, 4.82758178e-18],\n",
       "          [2.73557905e-01, 3.78016216e-15, 4.82758178e-18],\n",
       "          [2.01272900e-01, 6.35491223e-02, 5.19550691e-13]],\n",
       " \n",
       "         [[4.82758178e-18, 4.82758178e-18, 4.82758178e-18],\n",
       "          [2.73557905e-01, 3.78016334e-15, 4.82758178e-18],\n",
       "          [2.01272900e-01, 9.36450851e-01, 1.00000000e+00]]],\n",
       " \n",
       " \n",
       "        [[[1.00000000e+00, 1.00000000e+00, 1.00000000e+00],\n",
       "          [5.03385258e-02, 1.44336549e-15, 4.82758178e-18],\n",
       "          [5.97454111e-01, 1.49013634e-08, 4.82884760e-18]],\n",
       " \n",
       "         [[4.82758178e-18, 4.82758178e-18, 4.82758178e-18],\n",
       "          [4.02545650e-01, 1.00000000e+00, 1.00000000e+00],\n",
       "          [1.19317386e-07, 1.14350125e-08, 4.82884760e-18]],\n",
       " \n",
       "         [[4.82758178e-18, 4.82758178e-18, 4.82758178e-18],\n",
       "          [2.73557912e-01, 1.44336810e-15, 4.82758178e-18],\n",
       "          [2.01272885e-01, 6.35491221e-02, 1.24848566e-13]],\n",
       " \n",
       "         [[4.82758178e-18, 4.82758178e-18, 4.82758178e-18],\n",
       "          [2.73557912e-01, 1.44336855e-15, 4.82758178e-18],\n",
       "          [2.01272885e-01, 9.36450852e-01, 1.00000000e+00]]],\n",
       " \n",
       " \n",
       "        [[[1.00000000e+00, 1.00000000e+00, 1.00000000e+00],\n",
       "          [5.03384935e-02, 6.48591187e-16, 4.82758178e-18],\n",
       "          [5.97454167e-01, 1.46486354e-08, 4.82796599e-18]],\n",
       " \n",
       "         [[4.82758178e-18, 4.82758178e-18, 4.82758178e-18],\n",
       "          [4.02545675e-01, 1.00000000e+00, 1.00000000e+00],\n",
       "          [7.89320052e-08, 1.11822845e-08, 4.82796599e-18]],\n",
       " \n",
       "         [[4.82758178e-18, 4.82758178e-18, 4.82758178e-18],\n",
       "          [2.73557916e-01, 6.48592357e-16, 4.82758178e-18],\n",
       "          [2.01272877e-01, 6.35491219e-02, 3.80507964e-14]],\n",
       " \n",
       "         [[4.82758178e-18, 4.82758178e-18, 4.82758178e-18],\n",
       "          [2.73557916e-01, 6.48592557e-16, 4.82758178e-18],\n",
       "          [2.01272877e-01, 9.36450852e-01, 1.00000000e+00]]],\n",
       " \n",
       " \n",
       "        [[[1.00000000e+00, 1.00000000e+00, 1.00000000e+00],\n",
       "          [5.03384752e-02, 3.34232856e-16, 4.82758178e-18],\n",
       "          [5.97454199e-01, 1.44423008e-08, 4.82772451e-18]],\n",
       " \n",
       "         [[4.82758178e-18, 4.82758178e-18, 4.82758178e-18],\n",
       "          [4.02545689e-01, 1.00000000e+00, 1.00000000e+00],\n",
       "          [5.59385185e-08, 1.09759499e-08, 4.82772451e-18]],\n",
       " \n",
       "         [[4.82758178e-18, 4.82758178e-18, 4.82758178e-18],\n",
       "          [2.73557918e-01, 3.34233455e-16, 4.82758178e-18],\n",
       "          [2.01272872e-01, 6.35491218e-02, 1.41386006e-14]],\n",
       " \n",
       "         [[4.82758178e-18, 4.82758178e-18, 4.82758178e-18],\n",
       "          [2.73557918e-01, 3.34233557e-16, 4.82758178e-18],\n",
       "          [2.01272872e-01, 9.36450853e-01, 1.00000000e+00]]],\n",
       " \n",
       " \n",
       "        [[[1.00000000e+00, 1.00000000e+00, 1.00000000e+00],\n",
       "          [5.03384640e-02, 1.93293986e-16, 4.82758178e-18],\n",
       "          [5.97454219e-01, 1.42732666e-08, 4.82764455e-18]],\n",
       " \n",
       "         [[4.82758178e-18, 4.82758178e-18, 4.82758178e-18],\n",
       "          [4.02545697e-01, 1.00000000e+00, 1.00000000e+00],\n",
       "          [4.19848372e-08, 1.08069157e-08, 4.82764455e-18]],\n",
       " \n",
       "         [[4.82758178e-18, 4.82758178e-18, 4.82758178e-18],\n",
       "          [2.73557919e-01, 1.93294328e-16, 4.82758178e-18],\n",
       "          [2.01272870e-01, 6.35491216e-02, 6.19755757e-15]],\n",
       " \n",
       "         [[4.82758178e-18, 4.82758178e-18, 4.82758178e-18],\n",
       "          [2.73557919e-01, 1.93294387e-16, 4.82758178e-18],\n",
       "          [2.01272870e-01, 9.36450853e-01, 1.00000000e+00]]],\n",
       " \n",
       " \n",
       "        [[[1.00000000e+00, 1.00000000e+00, 1.00000000e+00],\n",
       "          [5.03384569e-02, 1.23173538e-16, 4.82758178e-18],\n",
       "          [5.97454231e-01, 1.41343950e-08, 4.82761365e-18]],\n",
       " \n",
       "         [[4.82758178e-18, 4.82758178e-18, 4.82758178e-18],\n",
       "          [4.02545703e-01, 1.00000000e+00, 1.00000000e+00],\n",
       "          [3.30555000e-08, 1.06680442e-08, 4.82761365e-18]],\n",
       " \n",
       "         [[4.82758178e-18, 4.82758178e-18, 4.82758178e-18],\n",
       "          [2.73557920e-01, 1.23173753e-16, 4.82758178e-18],\n",
       "          [2.01272868e-01, 6.35491215e-02, 3.11823067e-15]],\n",
       " \n",
       "         [[4.82758178e-18, 4.82758178e-18, 4.82758178e-18],\n",
       "          [2.73557920e-01, 1.23173790e-16, 4.82758178e-18],\n",
       "          [2.01272868e-01, 9.36450854e-01, 1.00000000e+00]]],\n",
       " \n",
       " \n",
       "        [[[1.00000000e+00, 1.00000000e+00, 1.00000000e+00],\n",
       "          [5.03384521e-02, 8.51345037e-17, 4.82758178e-18],\n",
       "          [5.97454239e-01, 1.40200329e-08, 4.82760012e-18]],\n",
       " \n",
       "         [[4.82758178e-18, 4.82758178e-18, 4.82758178e-18],\n",
       "          [4.02545706e-01, 1.00000000e+00, 1.00000000e+00],\n",
       "          [2.70833954e-08, 1.05536820e-08, 4.82760012e-18]],\n",
       " \n",
       "         [[4.82758178e-18, 4.82758178e-18, 4.82758178e-18],\n",
       "          [2.73557921e-01, 8.51346496e-17, 4.82758178e-18],\n",
       "          [2.01272867e-01, 6.35491215e-02, 1.76017454e-15]],\n",
       " \n",
       "         [[4.82758178e-18, 4.82758178e-18, 4.82758178e-18],\n",
       "          [2.73557921e-01, 8.51346746e-17, 4.82758178e-18],\n",
       "          [2.01272867e-01, 9.36450854e-01, 1.00000000e+00]]]])]"
      ]
     },
     "execution_count": 139,
     "metadata": {},
     "output_type": "execute_result"
    }
   ],
   "source": [
    "Xn_arr"
   ]
  },
  {
   "cell_type": "code",
   "execution_count": 140,
   "metadata": {},
   "outputs": [],
   "source": [
    "f = 0\n",
    "# TODO: below should be initialized depending on the chosen factor (f)\n",
    "n_trials = 1 # Nt\n",
    "n_time_points = 3 # Ne\n",
    "n_states = 2 # Nx\n",
    "n_iterations = 16 # Nb\n",
    "\n",
    "All = []\n",
    "for i in range(n_time_points):\n",
    "    for j in range(n_states):\n",
    "        All.append((j, i))\n",
    "\n",
    "Units = All\n",
    "\n",
    "# trials_z = []\n",
    "# trials_x = []\n",
    "\n",
    "zj = np.zeros((n_time_points, len(All), n_iterations))\n",
    "xj = np.zeros((n_time_points, len(All), n_iterations))\n",
    "\n",
    "vj = np.zeros((n_time_points, len(All), n_iterations))\n",
    "uj = np.zeros((n_time_points, len(All), n_iterations))\n",
    "\n",
    "dj = np.zeros((n_iterations))\n",
    "for trial in range(n_trials):\n",
    "    plt_xn = Xn_arr[f]\n",
    "\n",
    "    # all units\n",
    "    for index, (j, i) in enumerate(All):\n",
    "        for k in range(n_time_points):\n",
    "            zj[k, index] = plt_xn[:, j, i, k]\n",
    "            xj[k, index] = np.gradient(zj[k, index])\n",
    "\n",
    "    # selected units\n",
    "    for index, (j, i) in enumerate(Units):\n",
    "        for k in range(n_time_points):\n",
    "            vj[k, index] = plt_xn[:, j, i, k]\n",
    "            uj[k, index] = np.gradient(vj[k, index])\n",
    "\n",
    "    # dopamine or changes in precision\n",
    "    dj = dn\n",
    "\n",
    "dt = 1/ 64 # time bin (seconds)  \n",
    "t = np.arange(1, n_trials * n_time_points * n_iterations + 1) * dt # time (seconds)\n",
    "hz = np.arange(4, 32 + 1) # frequency range \n",
    "window_size = 1 / (4 * dt) # window length\n",
    "window_cycles = hz * (dt * window_size) # number of cycles in window\n",
    "\n",
    "        \n",
    "\n",
    "    # for j in "
   ]
  },
  {
   "cell_type": "code",
   "execution_count": null,
   "metadata": {},
   "outputs": [],
   "source": []
  },
  {
   "cell_type": "code",
   "execution_count": 141,
   "metadata": {},
   "outputs": [
    {
     "data": {
      "image/png": "[encoded data removed]",
      "text/plain": [
       "<Figure size 1600x200 with 1 Axes>"
      ]
     },
     "metadata": {},
     "output_type": "display_data"
    }
   ],
   "source": [
    "# plot simulated firing rates and local field potentials\n",
    "\n",
    "plt.matshow(np.concatenate(zj, axis = 1), vmin = 0.0, vmax = 1.0, cmap='binary')\n",
    "# plt.xticks(range(time_steps))\n",
    "# set the x ticks to be in range t\n",
    "plt.xlabel('Time (sec)')\n",
    "# plt.xlim(0, max(t))\n",
    "# plt.xticks(t)\n",
    "# plt.xticks(range(0, n_time_points * n_iterations, n_iterations), t)\n",
    "# plt.yticks(range(0, len(All)), range(1, len(All) + 1))\n",
    "contexts = ['Left better', 'Right better']\n",
    "y_ticks = [f\"{contexts[j]}, t={i + 1}\" for j, i in All]\n",
    "\n",
    "plt.yticks(range(0, len(All)), y_ticks)\n",
    "plt.title('contexts')\n",
    "plt.axis('equal')\n",
    "plt.show()"
   ]
  },
  {
   "cell_type": "code",
   "execution_count": null,
   "metadata": {},
   "outputs": [],
   "source": [
    "# time frequency analysis and theta phase\n",
    "\n",
    "LFP = np.concatenate(xj, axis = 1)\n",
    "\n",
    "# windowed fourier wavelet transform\n",
    "(rows, columns) = LFP.shape\n",
    "\n",
    "# hanning window\n",
    "_h = 0.5 * (1 - np.cos(2 * np.pi * np.arange(1, window_size + 1) / (window_size + 1)))\n",
    "_h /= np.sum(_h)\n",
    "_h\n",
    "\n",
    "windowed_fourier_transform = np.zeros((len(window_cycles), rows, columns),dtype = 'complex_')\n",
    "\n",
    "for i in range(len(window_cycles)):\n",
    "    _W = np.exp(-1j * (2 * np.pi * window_cycles[i] * np.arange(0, columns) / window_size))\n",
    "    for j in range(rows):\n",
    "        _w = np.convolve(LFP[j] * _W, _h)\n",
    "        windowed_fourier_transform[i, j] = _w[(np.arange(columns)+ window_size/2).astype(int)]\n",
    "# windowed fourier wavelet transform\n",
    "\n",
    "csd = np.sum(np.abs(windowed_fourier_transform), axis = 1)\n",
    "lfp = LFP.sum(axis = 0)\n",
    "\n",
    "# inverse windowed fourier transform - continuos synthesis\n",
    "\n",
    "# window function (Hanning)\n",
    "_c = windowed_fourier_transform[0].sum(axis = 0)\n",
    "n_val = len(_c)\n",
    "phi = np.zeros(n_val)\n",
    "conjugate = np.conj(_c)\n",
    "\n",
    "# spectral density \n",
    "for i in range(int(window_cycles[0])):\n",
    "    _sp = np.exp(-1j * (2 * np.pi * window_cycles[i] * np.arange(n_val)/n_iterations))\n",
    "    # FIXME: _sp and conjugate seem to match matlab output but _wc does not\n",
    "    _wc = _sp * conjugate\n",
    "    phi += np.real(_wc)\n",
    "\n",
    "lfp = 4 * lfp / np.std(lfp) + 16\n",
    "phi = 4 * phi / np.std(phi) + 16 \n",
    "# \n"
   ]
  },
  {
   "cell_type": "code",
   "execution_count": null,
   "metadata": {},
   "outputs": [],
   "source": [
    "np.exp(-1j * (2 * np.pi * 1 * np.arange(n_val)/n_iterations)) * conjugate"
   ]
  },
  {
   "cell_type": "code",
   "execution_count": null,
   "metadata": {},
   "outputs": [],
   "source": [
    "conjugate[-1]"
   ]
  },
  {
   "cell_type": "code",
   "execution_count": null,
   "metadata": {},
   "outputs": [],
   "source": [
    "#FIXME: plot looks too different investigate phi\n",
    "# plt.matshow(csd[::-1], cmap='binary_r')\n",
    "plt.matshow(csd, cmap='binary_r', aspect='auto', origin='lower')\n",
    "plt.plot(lfp, color = 'w', linestyle = '--')\n",
    "plt.plot(phi, color = 'w')\n",
    "plt.xlabel('Time (sec)')\n",
    "plt.ylabel('Frequency (Hz)')\n",
    "plt.title('Time frequency response')\n",
    "\n",
    "plt.show()"
   ]
  },
  {
   "cell_type": "code",
   "execution_count": null,
   "metadata": {},
   "outputs": [],
   "source": [
    "plt.plot(np.concatenate(uj, axis = 1).T)\n",
    "x_time = np.arange((n_time_points*n_trials)*n_iterations)[::10]\n",
    "plt.xticks(x_time, (x_time) * dt)\n",
    "plt.xlabel('Time (sec)')\n",
    "plt.ylabel('Response')\n",
    "plt.title('Local field potentials')\n",
    "plt.show()"
   ]
  },
  {
   "cell_type": "code",
   "execution_count": null,
   "metadata": {},
   "outputs": [],
   "source": [
    "plt.plot(np.concatenate(vj, axis = 1).T)\n",
    "plt.xlabel('Time (sec)')\n",
    "plt.ylabel('Response')\n",
    "plt.title('Firing rates')\n",
    "plt.show()"
   ]
  },
  {
   "cell_type": "code",
   "execution_count": null,
   "metadata": {},
   "outputs": [],
   "source": [
    "# simulated dopamine responses (if not a moving policy)\n",
    "\n",
    "dnz = dj * (dj > 0)\n",
    "plt.bar(np.arange(len(dnz)), dnz + (dnz + 1/16) * np.random.rand(len(dnz)) / 8, color = 'k', width=1)\n",
    "plt.xlabel('Time (updates)')\n",
    "plt.ylabel('Change in Precision')\n",
    "plt.title('Dopamine responses')\n",
    "plt.show()\n"
   ]
  },
  {
   "cell_type": "code",
   "execution_count": null,
   "metadata": {},
   "outputs": [],
   "source": [
    "rasters = np.kron(np.concatenate(zj, axis = 1).T, np.ones((n_iterations, n_iterations)))\n",
    "plt.matshow(~(np.random.rand(*rasters.shape) > (rasters * (1 - 1/16)) ).T, cmap='binary', aspect='auto') # TODO: why invert the values?\n",
    "plt.xlabel('Time (sec)')\n",
    "# contexts = ['Left better', 'Right better']\n",
    "# y_ticks = [f\"{contexts[j]}, t={i + 1}\" for j, i in All]\n",
    "\n",
    "# plt.yticks(range(0, len(All)), y_ticks)\n",
    "plt.title('Unit firing')\n",
    "plt.show()"
   ]
  },
  {
   "cell_type": "code",
   "execution_count": null,
   "metadata": {},
   "outputs": [],
   "source": [
    "np.arange((n_time_points*n_trials)*n_iterations)[::5]"
   ]
  },
  {
   "cell_type": "code",
   "execution_count": null,
   "metadata": {},
   "outputs": [],
   "source": [
    "0.5 * (1 - 2 * np.pi * np.cos(np.arange(1, window_size + 1) / (window_size + 1)))"
   ]
  },
  {
   "cell_type": "code",
   "execution_count": null,
   "metadata": {},
   "outputs": [],
   "source": [
    "_W = np.exp(-1j * (2 * np.pi * window_cycles[0] * np.arange(0, columns) / window_size))\n",
    "_W\n",
    "# np.convolve(LFP[0] * _W, _h, mode='same')"
   ]
  },
  {
   "cell_type": "code",
   "execution_count": null,
   "metadata": {},
   "outputs": [],
   "source": [
    "np.convolve(LFP[0] * _W, _h).shape"
   ]
  }
 ],
 "metadata": {
  "kernelspec": {
   "display_name": "tmaze",
   "language": "python",
   "name": "python3"
  },
  "language_info": {
   "codemirror_mode": {
    "name": "ipython",
    "version": 3
   },
   "file_extension": ".py",
   "mimetype": "text/x-python",
   "name": "python",
   "nbconvert_exporter": "python",
   "pygments_lexer": "ipython3",
   "version": "3.12.3"
  }
 },
 "nbformat": 4,
 "nbformat_minor": 2
}
